{
 "cells": [
  {
   "attachments": {},
   "cell_type": "markdown",
   "metadata": {},
   "source": [
    "<center><font size = '+2'>QuantumBlack Hackathon</font></center>\n",
    "<center><font size = '+2'>Pipeline</font></center>\n",
    "<br>\n",
    "<center><font size = '+0'>by</font></center>\n",
    "<br>\n",
    "<center><font size = '+1'>Yifan WANG, Dayu LIU, Yangfan ZHANGLIN</font></center>\n",
    "<center><font size = '+1'>Yaqi CHEN, Peizhen CHEN, Xiangying CHEN</font></center>"
   ]
  },
  {
   "attachments": {},
   "cell_type": "markdown",
   "metadata": {},
   "source": [
    "## Step 1. Data Preprocessing"
   ]
  },
  {
   "cell_type": "code",
   "execution_count": 1,
   "metadata": {},
   "outputs": [],
   "source": [
    "# a function to create folders\n",
    "import os\n",
    "def create_folder(path):\n",
    "    if not os.path.exists(path):\n",
    "        os.makedirs(path)\n",
    "        print(f\"Folder created: {path}\")\n",
    "    else:\n",
    "        print(f\"Folder already exists: {path}\")"
   ]
  },
  {
   "cell_type": "code",
   "execution_count": 2,
   "metadata": {},
   "outputs": [
    {
     "name": "stdout",
     "output_type": "stream",
     "text": [
      "Folder already exists: c:/Wiofin_Projects/QBH/data/train\n",
      "Folder already exists: c:/Wiofin_Projects/QBH/data/train/plume\n",
      "Folder already exists: c:/Wiofin_Projects/QBH/data/train/no_plume\n",
      "Folder already exists: c:/Wiofin_Projects/QBH/data/test\n",
      "Folder already exists: c:/Wiofin_Projects/QBH/data/test/plume\n",
      "Folder already exists: c:/Wiofin_Projects/QBH/data/test/no_plume\n"
     ]
    }
   ],
   "source": [
    "# create required folders\n",
    "dir = os.getcwd()\n",
    "dir = dir.replace(\"\\\\\", \"/\")\n",
    "\n",
    "create_folder(dir + '/data/train')\n",
    "create_folder(dir + '/data/train/plume')\n",
    "create_folder(dir + '/data/train/no_plume')\n",
    "create_folder(dir + '/data/test')\n",
    "create_folder(dir + '/data/test/plume')\n",
    "create_folder(dir + '/data/test/no_plume')"
   ]
  },
  {
   "cell_type": "code",
   "execution_count": 3,
   "metadata": {},
   "outputs": [
    {
     "name": "stdout",
     "output_type": "stream",
     "text": [
      "214\n",
      "214\n"
     ]
    }
   ],
   "source": [
    "# get all image names\n",
    "from glob import glob\n",
    "\n",
    "plume_list = glob(dir + '/data/images/plume/*.tif')\n",
    "no_plume_list = glob(dir + '/data/images/no_plume/*.tif')\n",
    "print(len(plume_list))\n",
    "print(len(no_plume_list))"
   ]
  },
  {
   "cell_type": "code",
   "execution_count": 4,
   "metadata": {},
   "outputs": [],
   "source": [
    "# train-test split\n",
    "import random as rd\n",
    "test_plume = rd.sample(plume_list, k = 50)\n",
    "test_no_plume = rd.sample(no_plume_list, k = 50)\n",
    "train_plume = list(set(plume_list) - set(test_plume))\n",
    "train_no_plume = list(set(no_plume_list) - set(test_no_plume))"
   ]
  },
  {
   "cell_type": "code",
   "execution_count": 5,
   "metadata": {},
   "outputs": [
    {
     "data": {
      "text/plain": [
       "'20230101_methane_mixing_ratio_id_4928'"
      ]
     },
     "execution_count": 5,
     "metadata": {},
     "output_type": "execute_result"
    }
   ],
   "source": [
    "plume_list[0].split('\\\\')[-1].split('.')[0]"
   ]
  },
  {
   "cell_type": "code",
   "execution_count": 6,
   "metadata": {},
   "outputs": [],
   "source": [
    "# preprocessing and save the images locally\n",
    "from utils import feature_engineering as fe\n",
    "import cv2\n",
    "# process train plumn images\n",
    "for file in train_plume:\n",
    "    filename = file.split('\\\\')[-1].split('.')[0]\n",
    "    image = fe.preprocess(file)\n",
    "    cv2.imwrite(dir + f'/data/train/plume/{filename}_0.png', image)\n",
    "    for i in range (1, 5, 1):\n",
    "        aug = fe.augment(image, train = i)\n",
    "        cv2.imwrite(dir + f'/data/train/plume/{filename}_{i}.png', aug)\n",
    "# process train no plume images\n",
    "for file in train_no_plume:\n",
    "    filename = file.split('\\\\')[-1].split('.')[0]\n",
    "    image = fe.preprocess(file)\n",
    "    cv2.imwrite(dir + f'/data/train/no_plume/{filename}_0.png', image)\n",
    "    for i in range (1, 5, 1):\n",
    "        aug = fe.augment(image, train = i)\n",
    "        cv2.imwrite(dir + f'/data/train/no_plume/{filename}_{i}.png', aug)\n",
    "# process test plume\n",
    "for file in test_plume:\n",
    "    filename = file.split('\\\\')[-1].split('.')[0]\n",
    "    image = fe.preprocess(file)\n",
    "    cv2.imwrite(dir + f'/data/test/plume/{filename}.png', image)\n",
    "# process test no plume\n",
    "for file in test_no_plume:\n",
    "    filename = file.split('\\\\')[-1].split('.')[0]\n",
    "    image = fe.preprocess(file)\n",
    "    cv2.imwrite(dir + f'/data/test/no_plume/{filename}.png', image)"
   ]
  },
  {
   "attachments": {},
   "cell_type": "markdown",
   "metadata": {},
   "source": [
    "We generate 5 images from 1 on the training set using data augmentation."
   ]
  },
  {
   "attachments": {},
   "cell_type": "markdown",
   "metadata": {},
   "source": [
    "## Step 2. Model Selection"
   ]
  },
  {
   "cell_type": "code",
   "execution_count": 7,
   "metadata": {},
   "outputs": [],
   "source": [
    "from tqdm import tqdm\n",
    "from sklearn.metrics import accuracy_score, f1_score, roc_auc_score\n",
    "\n",
    "import torch\n",
    "from torch import nn\n",
    "from torch import optim\n",
    "from torchvision import datasets, transforms, models\n",
    "\n",
    "device = torch.device(\"cuda:0\" if torch.cuda.is_available() else \"cpu\")\n",
    "transform = transforms.Compose([\n",
    "    transforms.ToTensor(),\n",
    "    transforms.Normalize(mean=(0.5,), std=(0.5,))\n",
    "])\n",
    "batch_size = 32\n",
    "train_dataset = datasets.ImageFolder(dir + '/data/train/', transform = transform)\n",
    "test_dataset = datasets.ImageFolder(dir + '/data/test/', transform = transform)\n",
    "train_loader = torch.utils.data.DataLoader(train_dataset, batch_size = batch_size, shuffle = True)\n",
    "test_loader = torch.utils.data.DataLoader(test_dataset, batch_size = batch_size, shuffle = False)"
   ]
  },
  {
   "cell_type": "code",
   "execution_count": 8,
   "metadata": {},
   "outputs": [],
   "source": [
    "def train_model(model, criterion, optimizer, train_loader, test_loader, num_epochs, savename):\n",
    "    # record the best AUC\n",
    "    best_auc = 0.0\n",
    "    best_loss = 0.0\n",
    "\n",
    "    for epoch in range(num_epochs):\n",
    "        # Training phase\n",
    "        model.train()\n",
    "        train_loss = 0.0\n",
    "\n",
    "        for inputs, labels in tqdm(train_loader, desc = f\"Epoch {epoch + 1}/{num_epochs} - Training\"):\n",
    "            inputs = inputs.to(device)\n",
    "            labels = labels.to(device)\n",
    "            optimizer.zero_grad()\n",
    "            # Forward pass\n",
    "            outputs = model(inputs)\n",
    "            loss = criterion(outputs, labels)\n",
    "            # Backward pass and optimization\n",
    "            loss.backward()\n",
    "            optimizer.step()\n",
    "            train_loss += loss.item()\n",
    "        train_loss /= len(train_loader)\n",
    "\n",
    "        # Evaluation phase\n",
    "        model.eval()\n",
    "        test_loss = 0.0\n",
    "        test_predictions = []\n",
    "        test_targets = []\n",
    "\n",
    "        with torch.no_grad():\n",
    "            for inputs, labels in tqdm(test_loader, desc = f\"Epoch {epoch + 1}/{num_epochs} - Evaluation\"):\n",
    "                inputs = inputs.to(device)\n",
    "                labels = labels.to(device)\n",
    "                outputs = model(inputs)\n",
    "                loss = criterion(outputs, labels)\n",
    "                test_loss += loss.item()\n",
    "                _, predicted = torch.max(outputs, 1)\n",
    "                test_predictions.extend(predicted.cpu().tolist())\n",
    "                test_targets.extend(labels.cpu().tolist())\n",
    "\n",
    "        test_loss /= len(test_loader)\n",
    "        test_accuracy = accuracy_score(test_targets, test_predictions)\n",
    "        test_f1_score = f1_score(test_targets, test_predictions)\n",
    "        test_auc = roc_auc_score(test_targets, test_predictions)\n",
    "\n",
    "        print(f\"Epoch {epoch + 1}/{num_epochs} - Train Loss: {train_loss:.4f} | Test Loss: {test_loss:.4f} | \"\n",
    "              f\"Accuracy: {test_accuracy:.4f} | F1 Score: {test_f1_score:.4f} | AUC: {test_auc:.4f}\")\n",
    "\n",
    "        # Save the model with the best AUC\n",
    "        if test_auc > best_auc:\n",
    "            best_auc = test_auc\n",
    "            best_loss = test_loss\n",
    "            torch.save(model.state_dict(), dir + f\"/models/{savename}.pth\")\n",
    "        elif test_auc == best_auc:\n",
    "            if test_loss < best_loss:\n",
    "                best_loss = test_loss\n",
    "                torch.save(model.state_dict(), dir + f\"/models/{savename}.pth\")\n",
    "        else:\n",
    "            pass"
   ]
  },
  {
   "attachments": {},
   "cell_type": "markdown",
   "metadata": {},
   "source": [
    "### AlexNet\n",
    "\n",
    "94% Average, 95% Saved"
   ]
  },
  {
   "cell_type": "code",
   "execution_count": 9,
   "metadata": {},
   "outputs": [
    {
     "name": "stderr",
     "output_type": "stream",
     "text": [
      "c:\\Wiofin_Softwares\\Anaconda\\envs\\pytorch_gpu\\lib\\site-packages\\torchvision\\models\\_utils.py:208: UserWarning: The parameter 'pretrained' is deprecated since 0.13 and may be removed in the future, please use 'weights' instead.\n",
      "  warnings.warn(\n",
      "c:\\Wiofin_Softwares\\Anaconda\\envs\\pytorch_gpu\\lib\\site-packages\\torchvision\\models\\_utils.py:223: UserWarning: Arguments other than a weight enum or `None` for 'weights' are deprecated since 0.13 and may be removed in the future. The current behavior is equivalent to passing `weights=AlexNet_Weights.IMAGENET1K_V1`. You can also use `weights=AlexNet_Weights.DEFAULT` to get the most up-to-date weights.\n",
      "  warnings.warn(msg)\n"
     ]
    }
   ],
   "source": [
    "model = models.alexnet(pretrained = True)\n",
    "num_features = model.classifier[-1].in_features\n",
    "model.classifier[-1] = torch.nn.Linear(num_features, 2)"
   ]
  },
  {
   "cell_type": "code",
   "execution_count": 11,
   "metadata": {},
   "outputs": [
    {
     "name": "stderr",
     "output_type": "stream",
     "text": [
      "Epoch 1/30 - Training: 100%|██████████| 52/52 [00:10<00:00,  5.17it/s]\n",
      "Epoch 1/30 - Evaluation: 100%|██████████| 4/4 [00:00<00:00,  7.55it/s]\n"
     ]
    },
    {
     "name": "stdout",
     "output_type": "stream",
     "text": [
      "Epoch 1/30 - Train Loss: 0.5525 | Test Loss: 0.4570 | Accuracy: 0.8200 | F1 Score: 0.8000 | AUC: 0.8200\n"
     ]
    },
    {
     "name": "stderr",
     "output_type": "stream",
     "text": [
      "Epoch 2/30 - Training: 100%|██████████| 52/52 [00:04<00:00, 11.18it/s]\n",
      "Epoch 2/30 - Evaluation: 100%|██████████| 4/4 [00:00<00:00, 22.98it/s]\n"
     ]
    },
    {
     "name": "stdout",
     "output_type": "stream",
     "text": [
      "Epoch 2/30 - Train Loss: 0.4220 | Test Loss: 0.5990 | Accuracy: 0.7500 | F1 Score: 0.6914 | AUC: 0.7500\n"
     ]
    },
    {
     "name": "stderr",
     "output_type": "stream",
     "text": [
      "Epoch 3/30 - Training: 100%|██████████| 52/52 [00:04<00:00, 11.42it/s]\n",
      "Epoch 3/30 - Evaluation: 100%|██████████| 4/4 [00:00<00:00, 23.25it/s]\n"
     ]
    },
    {
     "name": "stdout",
     "output_type": "stream",
     "text": [
      "Epoch 3/30 - Train Loss: 0.2752 | Test Loss: 0.3113 | Accuracy: 0.8800 | F1 Score: 0.8909 | AUC: 0.8800\n"
     ]
    },
    {
     "name": "stderr",
     "output_type": "stream",
     "text": [
      "Epoch 4/30 - Training: 100%|██████████| 52/52 [00:04<00:00, 11.44it/s]\n",
      "Epoch 4/30 - Evaluation: 100%|██████████| 4/4 [00:00<00:00, 23.39it/s]\n"
     ]
    },
    {
     "name": "stdout",
     "output_type": "stream",
     "text": [
      "Epoch 4/30 - Train Loss: 0.2032 | Test Loss: 0.2817 | Accuracy: 0.9000 | F1 Score: 0.8958 | AUC: 0.9000\n"
     ]
    },
    {
     "name": "stderr",
     "output_type": "stream",
     "text": [
      "Epoch 5/30 - Training: 100%|██████████| 52/52 [00:04<00:00, 11.36it/s]\n",
      "Epoch 5/30 - Evaluation: 100%|██████████| 4/4 [00:00<00:00, 23.39it/s]\n"
     ]
    },
    {
     "name": "stdout",
     "output_type": "stream",
     "text": [
      "Epoch 5/30 - Train Loss: 0.1014 | Test Loss: 0.4881 | Accuracy: 0.8800 | F1 Score: 0.8750 | AUC: 0.8800\n"
     ]
    },
    {
     "name": "stderr",
     "output_type": "stream",
     "text": [
      "Epoch 6/30 - Training: 100%|██████████| 52/52 [00:04<00:00, 11.37it/s]\n",
      "Epoch 6/30 - Evaluation: 100%|██████████| 4/4 [00:00<00:00, 23.25it/s]\n"
     ]
    },
    {
     "name": "stdout",
     "output_type": "stream",
     "text": [
      "Epoch 6/30 - Train Loss: 0.0763 | Test Loss: 0.4428 | Accuracy: 0.8900 | F1 Score: 0.8791 | AUC: 0.8900\n"
     ]
    },
    {
     "name": "stderr",
     "output_type": "stream",
     "text": [
      "Epoch 7/30 - Training: 100%|██████████| 52/52 [00:04<00:00, 11.68it/s]\n",
      "Epoch 7/30 - Evaluation: 100%|██████████| 4/4 [00:00<00:00, 22.09it/s]\n"
     ]
    },
    {
     "name": "stdout",
     "output_type": "stream",
     "text": [
      "Epoch 7/30 - Train Loss: 0.0498 | Test Loss: 1.1135 | Accuracy: 0.8300 | F1 Score: 0.7952 | AUC: 0.8300\n"
     ]
    },
    {
     "name": "stderr",
     "output_type": "stream",
     "text": [
      "Epoch 8/30 - Training: 100%|██████████| 52/52 [00:04<00:00, 11.41it/s]\n",
      "Epoch 8/30 - Evaluation: 100%|██████████| 4/4 [00:00<00:00, 23.12it/s]\n"
     ]
    },
    {
     "name": "stdout",
     "output_type": "stream",
     "text": [
      "Epoch 8/30 - Train Loss: 0.0649 | Test Loss: 0.4900 | Accuracy: 0.8700 | F1 Score: 0.8506 | AUC: 0.8700\n"
     ]
    },
    {
     "name": "stderr",
     "output_type": "stream",
     "text": [
      "Epoch 9/30 - Training: 100%|██████████| 52/52 [00:04<00:00, 11.32it/s]\n",
      "Epoch 9/30 - Evaluation: 100%|██████████| 4/4 [00:00<00:00, 23.12it/s]\n"
     ]
    },
    {
     "name": "stdout",
     "output_type": "stream",
     "text": [
      "Epoch 9/30 - Train Loss: 0.0401 | Test Loss: 0.3909 | Accuracy: 0.9100 | F1 Score: 0.9053 | AUC: 0.9100\n"
     ]
    },
    {
     "name": "stderr",
     "output_type": "stream",
     "text": [
      "Epoch 10/30 - Training: 100%|██████████| 52/52 [00:04<00:00, 11.36it/s]\n",
      "Epoch 10/30 - Evaluation: 100%|██████████| 4/4 [00:00<00:00, 23.25it/s]\n"
     ]
    },
    {
     "name": "stdout",
     "output_type": "stream",
     "text": [
      "Epoch 10/30 - Train Loss: 0.0294 | Test Loss: 0.6992 | Accuracy: 0.9100 | F1 Score: 0.9032 | AUC: 0.9100\n"
     ]
    },
    {
     "name": "stderr",
     "output_type": "stream",
     "text": [
      "Epoch 11/30 - Training: 100%|██████████| 52/52 [00:04<00:00, 11.40it/s]\n",
      "Epoch 11/30 - Evaluation: 100%|██████████| 4/4 [00:00<00:00, 23.25it/s]\n"
     ]
    },
    {
     "name": "stdout",
     "output_type": "stream",
     "text": [
      "Epoch 11/30 - Train Loss: 0.0541 | Test Loss: 0.2646 | Accuracy: 0.8700 | F1 Score: 0.8713 | AUC: 0.8700\n"
     ]
    },
    {
     "name": "stderr",
     "output_type": "stream",
     "text": [
      "Epoch 12/30 - Training: 100%|██████████| 52/52 [00:04<00:00, 11.69it/s]\n",
      "Epoch 12/30 - Evaluation: 100%|██████████| 4/4 [00:00<00:00, 23.25it/s]\n"
     ]
    },
    {
     "name": "stdout",
     "output_type": "stream",
     "text": [
      "Epoch 12/30 - Train Loss: 0.0498 | Test Loss: 1.0770 | Accuracy: 0.8100 | F1 Score: 0.7654 | AUC: 0.8100\n"
     ]
    },
    {
     "name": "stderr",
     "output_type": "stream",
     "text": [
      "Epoch 13/30 - Training: 100%|██████████| 52/52 [00:04<00:00, 11.54it/s]\n",
      "Epoch 13/30 - Evaluation: 100%|██████████| 4/4 [00:00<00:00, 23.12it/s]\n"
     ]
    },
    {
     "name": "stdout",
     "output_type": "stream",
     "text": [
      "Epoch 13/30 - Train Loss: 0.0639 | Test Loss: 0.2060 | Accuracy: 0.9100 | F1 Score: 0.9143 | AUC: 0.9100\n"
     ]
    },
    {
     "name": "stderr",
     "output_type": "stream",
     "text": [
      "Epoch 14/30 - Training: 100%|██████████| 52/52 [00:04<00:00, 11.50it/s]\n",
      "Epoch 14/30 - Evaluation: 100%|██████████| 4/4 [00:00<00:00, 22.85it/s]\n"
     ]
    },
    {
     "name": "stdout",
     "output_type": "stream",
     "text": [
      "Epoch 14/30 - Train Loss: 0.0140 | Test Loss: 0.1772 | Accuracy: 0.9400 | F1 Score: 0.9412 | AUC: 0.9400\n"
     ]
    },
    {
     "name": "stderr",
     "output_type": "stream",
     "text": [
      "Epoch 15/30 - Training: 100%|██████████| 52/52 [00:04<00:00, 11.35it/s]\n",
      "Epoch 15/30 - Evaluation: 100%|██████████| 4/4 [00:00<00:00, 22.85it/s]\n"
     ]
    },
    {
     "name": "stdout",
     "output_type": "stream",
     "text": [
      "Epoch 15/30 - Train Loss: 0.0139 | Test Loss: 0.3015 | Accuracy: 0.9100 | F1 Score: 0.9159 | AUC: 0.9100\n"
     ]
    },
    {
     "name": "stderr",
     "output_type": "stream",
     "text": [
      "Epoch 16/30 - Training: 100%|██████████| 52/52 [00:04<00:00, 11.10it/s]\n",
      "Epoch 16/30 - Evaluation: 100%|██████████| 4/4 [00:00<00:00, 20.51it/s]\n"
     ]
    },
    {
     "name": "stdout",
     "output_type": "stream",
     "text": [
      "Epoch 16/30 - Train Loss: 0.0125 | Test Loss: 0.3742 | Accuracy: 0.8900 | F1 Score: 0.8972 | AUC: 0.8900\n"
     ]
    },
    {
     "name": "stderr",
     "output_type": "stream",
     "text": [
      "Epoch 17/30 - Training: 100%|██████████| 52/52 [00:04<00:00, 10.68it/s]\n",
      "Epoch 17/30 - Evaluation: 100%|██████████| 4/4 [00:00<00:00, 22.59it/s]\n"
     ]
    },
    {
     "name": "stdout",
     "output_type": "stream",
     "text": [
      "Epoch 17/30 - Train Loss: 0.0115 | Test Loss: 0.4417 | Accuracy: 0.9100 | F1 Score: 0.9032 | AUC: 0.9100\n"
     ]
    },
    {
     "name": "stderr",
     "output_type": "stream",
     "text": [
      "Epoch 18/30 - Training: 100%|██████████| 52/52 [00:04<00:00, 11.21it/s]\n",
      "Epoch 18/30 - Evaluation: 100%|██████████| 4/4 [00:00<00:00, 23.12it/s]\n"
     ]
    },
    {
     "name": "stdout",
     "output_type": "stream",
     "text": [
      "Epoch 18/30 - Train Loss: 0.0233 | Test Loss: 0.4926 | Accuracy: 0.8600 | F1 Score: 0.8571 | AUC: 0.8600\n"
     ]
    },
    {
     "name": "stderr",
     "output_type": "stream",
     "text": [
      "Epoch 19/30 - Training: 100%|██████████| 52/52 [00:04<00:00, 11.29it/s]\n",
      "Epoch 19/30 - Evaluation: 100%|██████████| 4/4 [00:00<00:00, 22.72it/s]\n"
     ]
    },
    {
     "name": "stdout",
     "output_type": "stream",
     "text": [
      "Epoch 19/30 - Train Loss: 0.0129 | Test Loss: 0.6713 | Accuracy: 0.8500 | F1 Score: 0.8315 | AUC: 0.8500\n"
     ]
    },
    {
     "name": "stderr",
     "output_type": "stream",
     "text": [
      "Epoch 20/30 - Training: 100%|██████████| 52/52 [00:04<00:00, 11.25it/s]\n",
      "Epoch 20/30 - Evaluation: 100%|██████████| 4/4 [00:00<00:00, 22.72it/s]\n"
     ]
    },
    {
     "name": "stdout",
     "output_type": "stream",
     "text": [
      "Epoch 20/30 - Train Loss: 0.0056 | Test Loss: 0.5508 | Accuracy: 0.8900 | F1 Score: 0.8842 | AUC: 0.8900\n"
     ]
    },
    {
     "name": "stderr",
     "output_type": "stream",
     "text": [
      "Epoch 21/30 - Training: 100%|██████████| 52/52 [00:04<00:00, 11.33it/s]\n",
      "Epoch 21/30 - Evaluation: 100%|██████████| 4/4 [00:00<00:00, 22.85it/s]\n"
     ]
    },
    {
     "name": "stdout",
     "output_type": "stream",
     "text": [
      "Epoch 21/30 - Train Loss: 0.0027 | Test Loss: 0.3002 | Accuracy: 0.8900 | F1 Score: 0.8911 | AUC: 0.8900\n"
     ]
    },
    {
     "name": "stderr",
     "output_type": "stream",
     "text": [
      "Epoch 22/30 - Training: 100%|██████████| 52/52 [00:04<00:00, 11.51it/s]\n",
      "Epoch 22/30 - Evaluation: 100%|██████████| 4/4 [00:00<00:00, 22.98it/s]\n"
     ]
    },
    {
     "name": "stdout",
     "output_type": "stream",
     "text": [
      "Epoch 22/30 - Train Loss: 0.0026 | Test Loss: 0.3018 | Accuracy: 0.9200 | F1 Score: 0.9200 | AUC: 0.9200\n"
     ]
    },
    {
     "name": "stderr",
     "output_type": "stream",
     "text": [
      "Epoch 23/30 - Training: 100%|██████████| 52/52 [00:04<00:00, 11.51it/s]\n",
      "Epoch 23/30 - Evaluation: 100%|██████████| 4/4 [00:00<00:00, 22.09it/s]\n"
     ]
    },
    {
     "name": "stdout",
     "output_type": "stream",
     "text": [
      "Epoch 23/30 - Train Loss: 0.0046 | Test Loss: 0.4093 | Accuracy: 0.8800 | F1 Score: 0.8776 | AUC: 0.8800\n"
     ]
    },
    {
     "name": "stderr",
     "output_type": "stream",
     "text": [
      "Epoch 24/30 - Training: 100%|██████████| 52/52 [00:04<00:00, 11.46it/s]\n",
      "Epoch 24/30 - Evaluation: 100%|██████████| 4/4 [00:00<00:00, 21.91it/s]\n"
     ]
    },
    {
     "name": "stdout",
     "output_type": "stream",
     "text": [
      "Epoch 24/30 - Train Loss: 0.0027 | Test Loss: 1.1392 | Accuracy: 0.8600 | F1 Score: 0.8409 | AUC: 0.8600\n"
     ]
    },
    {
     "name": "stderr",
     "output_type": "stream",
     "text": [
      "Epoch 25/30 - Training: 100%|██████████| 52/52 [00:04<00:00, 11.36it/s]\n",
      "Epoch 25/30 - Evaluation: 100%|██████████| 4/4 [00:00<00:00, 21.05it/s]\n"
     ]
    },
    {
     "name": "stdout",
     "output_type": "stream",
     "text": [
      "Epoch 25/30 - Train Loss: 0.0670 | Test Loss: 0.3842 | Accuracy: 0.8600 | F1 Score: 0.8478 | AUC: 0.8600\n"
     ]
    },
    {
     "name": "stderr",
     "output_type": "stream",
     "text": [
      "Epoch 26/30 - Training: 100%|██████████| 52/52 [00:04<00:00, 11.03it/s]\n",
      "Epoch 26/30 - Evaluation: 100%|██████████| 4/4 [00:00<00:00, 22.59it/s]\n"
     ]
    },
    {
     "name": "stdout",
     "output_type": "stream",
     "text": [
      "Epoch 26/30 - Train Loss: 0.0599 | Test Loss: 0.2755 | Accuracy: 0.9200 | F1 Score: 0.9149 | AUC: 0.9200\n"
     ]
    },
    {
     "name": "stderr",
     "output_type": "stream",
     "text": [
      "Epoch 27/30 - Training: 100%|██████████| 52/52 [00:04<00:00, 11.17it/s]\n",
      "Epoch 27/30 - Evaluation: 100%|██████████| 4/4 [00:00<00:00, 23.63it/s]\n"
     ]
    },
    {
     "name": "stdout",
     "output_type": "stream",
     "text": [
      "Epoch 27/30 - Train Loss: 0.0488 | Test Loss: 0.4353 | Accuracy: 0.8400 | F1 Score: 0.8596 | AUC: 0.8400\n"
     ]
    },
    {
     "name": "stderr",
     "output_type": "stream",
     "text": [
      "Epoch 28/30 - Training: 100%|██████████| 52/52 [00:04<00:00, 11.25it/s]\n",
      "Epoch 28/30 - Evaluation: 100%|██████████| 4/4 [00:00<00:00, 23.95it/s]\n"
     ]
    },
    {
     "name": "stdout",
     "output_type": "stream",
     "text": [
      "Epoch 28/30 - Train Loss: 0.0206 | Test Loss: 0.2271 | Accuracy: 0.9000 | F1 Score: 0.8958 | AUC: 0.9000\n"
     ]
    },
    {
     "name": "stderr",
     "output_type": "stream",
     "text": [
      "Epoch 29/30 - Training: 100%|██████████| 52/52 [00:04<00:00, 11.17it/s]\n",
      "Epoch 29/30 - Evaluation: 100%|██████████| 4/4 [00:00<00:00, 21.85it/s]\n"
     ]
    },
    {
     "name": "stdout",
     "output_type": "stream",
     "text": [
      "Epoch 29/30 - Train Loss: 0.0503 | Test Loss: 0.7342 | Accuracy: 0.8800 | F1 Score: 0.8667 | AUC: 0.8800\n"
     ]
    },
    {
     "name": "stderr",
     "output_type": "stream",
     "text": [
      "Epoch 30/30 - Training: 100%|██████████| 52/52 [00:04<00:00, 11.40it/s]\n",
      "Epoch 30/30 - Evaluation: 100%|██████████| 4/4 [00:00<00:00, 23.39it/s]"
     ]
    },
    {
     "name": "stdout",
     "output_type": "stream",
     "text": [
      "Epoch 30/30 - Train Loss: 0.0339 | Test Loss: 0.3527 | Accuracy: 0.9000 | F1 Score: 0.8980 | AUC: 0.9000\n"
     ]
    },
    {
     "name": "stderr",
     "output_type": "stream",
     "text": [
      "\n"
     ]
    }
   ],
   "source": [
    "criterion = nn.CrossEntropyLoss()\n",
    "optimizer = optim.Adam(model.parameters(), lr = 1e-4)\n",
    "num_epochs = 30\n",
    "model.to(device)\n",
    "train_model(model, criterion, optimizer, train_loader, test_loader, num_epochs, 'alexnet')"
   ]
  },
  {
   "attachments": {},
   "cell_type": "markdown",
   "metadata": {},
   "source": [
    "### ResNet34\n",
    "\n",
    "97% Average, 98% saved"
   ]
  },
  {
   "cell_type": "code",
   "execution_count": 12,
   "metadata": {},
   "outputs": [],
   "source": [
    "model = models.resnet34(weights = 'DEFAULT')\n",
    "model.fc=nn.Linear(in_features = 512, out_features = 2, bias = True)"
   ]
  },
  {
   "cell_type": "code",
   "execution_count": 13,
   "metadata": {},
   "outputs": [
    {
     "name": "stderr",
     "output_type": "stream",
     "text": [
      "Epoch 1/30 - Training: 100%|██████████| 52/52 [00:09<00:00,  5.20it/s]\n",
      "Epoch 1/30 - Evaluation: 100%|██████████| 4/4 [00:00<00:00, 13.42it/s]\n"
     ]
    },
    {
     "name": "stdout",
     "output_type": "stream",
     "text": [
      "Epoch 1/30 - Train Loss: 0.4570 | Test Loss: 0.2593 | Accuracy: 0.8900 | F1 Score: 0.8889 | AUC: 0.8900\n"
     ]
    },
    {
     "name": "stderr",
     "output_type": "stream",
     "text": [
      "Epoch 2/30 - Training: 100%|██████████| 52/52 [00:09<00:00,  5.31it/s]\n",
      "Epoch 2/30 - Evaluation: 100%|██████████| 4/4 [00:00<00:00, 14.60it/s]\n"
     ]
    },
    {
     "name": "stdout",
     "output_type": "stream",
     "text": [
      "Epoch 2/30 - Train Loss: 0.1567 | Test Loss: 0.3125 | Accuracy: 0.8800 | F1 Score: 0.8667 | AUC: 0.8800\n"
     ]
    },
    {
     "name": "stderr",
     "output_type": "stream",
     "text": [
      "Epoch 3/30 - Training: 100%|██████████| 52/52 [00:09<00:00,  5.22it/s]\n",
      "Epoch 3/30 - Evaluation: 100%|██████████| 4/4 [00:00<00:00, 14.76it/s]\n"
     ]
    },
    {
     "name": "stdout",
     "output_type": "stream",
     "text": [
      "Epoch 3/30 - Train Loss: 0.1077 | Test Loss: 0.5612 | Accuracy: 0.8700 | F1 Score: 0.8506 | AUC: 0.8700\n"
     ]
    },
    {
     "name": "stderr",
     "output_type": "stream",
     "text": [
      "Epoch 4/30 - Training: 100%|██████████| 52/52 [00:09<00:00,  5.37it/s]\n",
      "Epoch 4/30 - Evaluation: 100%|██████████| 4/4 [00:00<00:00, 13.98it/s]\n"
     ]
    },
    {
     "name": "stdout",
     "output_type": "stream",
     "text": [
      "Epoch 4/30 - Train Loss: 0.0522 | Test Loss: 0.3662 | Accuracy: 0.9100 | F1 Score: 0.9032 | AUC: 0.9100\n"
     ]
    },
    {
     "name": "stderr",
     "output_type": "stream",
     "text": [
      "Epoch 5/30 - Training: 100%|██████████| 52/52 [00:09<00:00,  5.24it/s]\n",
      "Epoch 5/30 - Evaluation: 100%|██████████| 4/4 [00:00<00:00, 14.92it/s]\n"
     ]
    },
    {
     "name": "stdout",
     "output_type": "stream",
     "text": [
      "Epoch 5/30 - Train Loss: 0.0437 | Test Loss: 0.2436 | Accuracy: 0.9300 | F1 Score: 0.9247 | AUC: 0.9300\n"
     ]
    },
    {
     "name": "stderr",
     "output_type": "stream",
     "text": [
      "Epoch 6/30 - Training: 100%|██████████| 52/52 [00:09<00:00,  5.33it/s]\n",
      "Epoch 6/30 - Evaluation: 100%|██████████| 4/4 [00:00<00:00, 14.33it/s]\n"
     ]
    },
    {
     "name": "stdout",
     "output_type": "stream",
     "text": [
      "Epoch 6/30 - Train Loss: 0.0466 | Test Loss: 0.4511 | Accuracy: 0.9000 | F1 Score: 0.8936 | AUC: 0.9000\n"
     ]
    },
    {
     "name": "stderr",
     "output_type": "stream",
     "text": [
      "Epoch 7/30 - Training: 100%|██████████| 52/52 [00:09<00:00,  5.31it/s]\n",
      "Epoch 7/30 - Evaluation: 100%|██████████| 4/4 [00:00<00:00, 14.08it/s]\n"
     ]
    },
    {
     "name": "stdout",
     "output_type": "stream",
     "text": [
      "Epoch 7/30 - Train Loss: 0.0542 | Test Loss: 0.3112 | Accuracy: 0.8900 | F1 Score: 0.8817 | AUC: 0.8900\n"
     ]
    },
    {
     "name": "stderr",
     "output_type": "stream",
     "text": [
      "Epoch 8/30 - Training: 100%|██████████| 52/52 [00:09<00:00,  5.36it/s]\n",
      "Epoch 8/30 - Evaluation: 100%|██████████| 4/4 [00:00<00:00, 14.18it/s]\n"
     ]
    },
    {
     "name": "stdout",
     "output_type": "stream",
     "text": [
      "Epoch 8/30 - Train Loss: 0.0204 | Test Loss: 0.1837 | Accuracy: 0.9200 | F1 Score: 0.9216 | AUC: 0.9200\n"
     ]
    },
    {
     "name": "stderr",
     "output_type": "stream",
     "text": [
      "Epoch 9/30 - Training: 100%|██████████| 52/52 [00:10<00:00,  5.16it/s]\n",
      "Epoch 9/30 - Evaluation: 100%|██████████| 4/4 [00:00<00:00, 15.47it/s]\n"
     ]
    },
    {
     "name": "stdout",
     "output_type": "stream",
     "text": [
      "Epoch 9/30 - Train Loss: 0.0146 | Test Loss: 0.1714 | Accuracy: 0.9000 | F1 Score: 0.8958 | AUC: 0.9000\n"
     ]
    },
    {
     "name": "stderr",
     "output_type": "stream",
     "text": [
      "Epoch 10/30 - Training: 100%|██████████| 52/52 [00:09<00:00,  5.24it/s]\n",
      "Epoch 10/30 - Evaluation: 100%|██████████| 4/4 [00:00<00:00, 15.32it/s]\n"
     ]
    },
    {
     "name": "stdout",
     "output_type": "stream",
     "text": [
      "Epoch 10/30 - Train Loss: 0.0260 | Test Loss: 0.8461 | Accuracy: 0.8800 | F1 Score: 0.8667 | AUC: 0.8800\n"
     ]
    },
    {
     "name": "stderr",
     "output_type": "stream",
     "text": [
      "Epoch 11/30 - Training: 100%|██████████| 52/52 [00:09<00:00,  5.29it/s]\n",
      "Epoch 11/30 - Evaluation: 100%|██████████| 4/4 [00:00<00:00, 14.70it/s]\n"
     ]
    },
    {
     "name": "stdout",
     "output_type": "stream",
     "text": [
      "Epoch 11/30 - Train Loss: 0.0527 | Test Loss: 0.5814 | Accuracy: 0.7800 | F1 Score: 0.8197 | AUC: 0.7800\n"
     ]
    },
    {
     "name": "stderr",
     "output_type": "stream",
     "text": [
      "Epoch 12/30 - Training: 100%|██████████| 52/52 [00:10<00:00,  5.18it/s]\n",
      "Epoch 12/30 - Evaluation: 100%|██████████| 4/4 [00:00<00:00, 14.03it/s]\n"
     ]
    },
    {
     "name": "stdout",
     "output_type": "stream",
     "text": [
      "Epoch 12/30 - Train Loss: 0.1366 | Test Loss: 0.7319 | Accuracy: 0.8400 | F1 Score: 0.8182 | AUC: 0.8400\n"
     ]
    },
    {
     "name": "stderr",
     "output_type": "stream",
     "text": [
      "Epoch 13/30 - Training: 100%|██████████| 52/52 [00:10<00:00,  5.14it/s]\n",
      "Epoch 13/30 - Evaluation: 100%|██████████| 4/4 [00:00<00:00, 13.89it/s]\n"
     ]
    },
    {
     "name": "stdout",
     "output_type": "stream",
     "text": [
      "Epoch 13/30 - Train Loss: 0.0806 | Test Loss: 0.4427 | Accuracy: 0.9000 | F1 Score: 0.8889 | AUC: 0.9000\n"
     ]
    },
    {
     "name": "stderr",
     "output_type": "stream",
     "text": [
      "Epoch 14/30 - Training: 100%|██████████| 52/52 [00:10<00:00,  5.13it/s]\n",
      "Epoch 14/30 - Evaluation: 100%|██████████| 4/4 [00:00<00:00, 14.23it/s]\n"
     ]
    },
    {
     "name": "stdout",
     "output_type": "stream",
     "text": [
      "Epoch 14/30 - Train Loss: 0.0643 | Test Loss: 0.1408 | Accuracy: 0.9300 | F1 Score: 0.9293 | AUC: 0.9300\n"
     ]
    },
    {
     "name": "stderr",
     "output_type": "stream",
     "text": [
      "Epoch 15/30 - Training: 100%|██████████| 52/52 [00:10<00:00,  5.19it/s]\n",
      "Epoch 15/30 - Evaluation: 100%|██████████| 4/4 [00:00<00:00, 14.33it/s]\n"
     ]
    },
    {
     "name": "stdout",
     "output_type": "stream",
     "text": [
      "Epoch 15/30 - Train Loss: 0.0154 | Test Loss: 0.1697 | Accuracy: 0.9200 | F1 Score: 0.9167 | AUC: 0.9200\n"
     ]
    },
    {
     "name": "stderr",
     "output_type": "stream",
     "text": [
      "Epoch 16/30 - Training: 100%|██████████| 52/52 [00:10<00:00,  5.19it/s]\n",
      "Epoch 16/30 - Evaluation: 100%|██████████| 4/4 [00:00<00:00, 14.03it/s]\n"
     ]
    },
    {
     "name": "stdout",
     "output_type": "stream",
     "text": [
      "Epoch 16/30 - Train Loss: 0.0101 | Test Loss: 0.1426 | Accuracy: 0.9400 | F1 Score: 0.9400 | AUC: 0.9400\n"
     ]
    },
    {
     "name": "stderr",
     "output_type": "stream",
     "text": [
      "Epoch 17/30 - Training: 100%|██████████| 52/52 [00:10<00:00,  5.18it/s]\n",
      "Epoch 17/30 - Evaluation: 100%|██████████| 4/4 [00:00<00:00, 13.33it/s]\n"
     ]
    },
    {
     "name": "stdout",
     "output_type": "stream",
     "text": [
      "Epoch 17/30 - Train Loss: 0.0056 | Test Loss: 0.2411 | Accuracy: 0.9100 | F1 Score: 0.9032 | AUC: 0.9100\n"
     ]
    },
    {
     "name": "stderr",
     "output_type": "stream",
     "text": [
      "Epoch 18/30 - Training: 100%|██████████| 52/52 [00:09<00:00,  5.21it/s]\n",
      "Epoch 18/30 - Evaluation: 100%|██████████| 4/4 [00:00<00:00, 14.03it/s]\n"
     ]
    },
    {
     "name": "stdout",
     "output_type": "stream",
     "text": [
      "Epoch 18/30 - Train Loss: 0.0034 | Test Loss: 0.1215 | Accuracy: 0.9300 | F1 Score: 0.9293 | AUC: 0.9300\n"
     ]
    },
    {
     "name": "stderr",
     "output_type": "stream",
     "text": [
      "Epoch 19/30 - Training: 100%|██████████| 52/52 [00:10<00:00,  5.20it/s]\n",
      "Epoch 19/30 - Evaluation: 100%|██████████| 4/4 [00:00<00:00, 14.03it/s]\n"
     ]
    },
    {
     "name": "stdout",
     "output_type": "stream",
     "text": [
      "Epoch 19/30 - Train Loss: 0.0045 | Test Loss: 0.1279 | Accuracy: 0.9300 | F1 Score: 0.9278 | AUC: 0.9300\n"
     ]
    },
    {
     "name": "stderr",
     "output_type": "stream",
     "text": [
      "Epoch 20/30 - Training: 100%|██████████| 52/52 [00:10<00:00,  5.18it/s]\n",
      "Epoch 20/30 - Evaluation: 100%|██████████| 4/4 [00:00<00:00, 14.18it/s]\n"
     ]
    },
    {
     "name": "stdout",
     "output_type": "stream",
     "text": [
      "Epoch 20/30 - Train Loss: 0.0035 | Test Loss: 0.3251 | Accuracy: 0.9000 | F1 Score: 0.8889 | AUC: 0.9000\n"
     ]
    },
    {
     "name": "stderr",
     "output_type": "stream",
     "text": [
      "Epoch 21/30 - Training: 100%|██████████| 52/52 [00:10<00:00,  5.15it/s]\n",
      "Epoch 21/30 - Evaluation: 100%|██████████| 4/4 [00:00<00:00, 13.93it/s]\n"
     ]
    },
    {
     "name": "stdout",
     "output_type": "stream",
     "text": [
      "Epoch 21/30 - Train Loss: 0.0053 | Test Loss: 0.1260 | Accuracy: 0.9300 | F1 Score: 0.9293 | AUC: 0.9300\n"
     ]
    },
    {
     "name": "stderr",
     "output_type": "stream",
     "text": [
      "Epoch 22/30 - Training: 100%|██████████| 52/52 [00:10<00:00,  5.09it/s]\n",
      "Epoch 22/30 - Evaluation: 100%|██████████| 4/4 [00:00<00:00, 14.08it/s]\n"
     ]
    },
    {
     "name": "stdout",
     "output_type": "stream",
     "text": [
      "Epoch 22/30 - Train Loss: 0.0050 | Test Loss: 0.1358 | Accuracy: 0.9300 | F1 Score: 0.9278 | AUC: 0.9300\n"
     ]
    },
    {
     "name": "stderr",
     "output_type": "stream",
     "text": [
      "Epoch 23/30 - Training: 100%|██████████| 52/52 [00:10<00:00,  5.16it/s]\n",
      "Epoch 23/30 - Evaluation: 100%|██████████| 4/4 [00:00<00:00, 14.08it/s]\n"
     ]
    },
    {
     "name": "stdout",
     "output_type": "stream",
     "text": [
      "Epoch 23/30 - Train Loss: 0.0234 | Test Loss: 0.1298 | Accuracy: 0.9200 | F1 Score: 0.9245 | AUC: 0.9200\n"
     ]
    },
    {
     "name": "stderr",
     "output_type": "stream",
     "text": [
      "Epoch 24/30 - Training: 100%|██████████| 52/52 [00:10<00:00,  5.15it/s]\n",
      "Epoch 24/30 - Evaluation: 100%|██████████| 4/4 [00:00<00:00, 13.84it/s]\n"
     ]
    },
    {
     "name": "stdout",
     "output_type": "stream",
     "text": [
      "Epoch 24/30 - Train Loss: 0.1331 | Test Loss: 0.7395 | Accuracy: 0.8400 | F1 Score: 0.8140 | AUC: 0.8400\n"
     ]
    },
    {
     "name": "stderr",
     "output_type": "stream",
     "text": [
      "Epoch 25/30 - Training: 100%|██████████| 52/52 [00:10<00:00,  5.18it/s]\n",
      "Epoch 25/30 - Evaluation: 100%|██████████| 4/4 [00:00<00:00, 14.28it/s]\n"
     ]
    },
    {
     "name": "stdout",
     "output_type": "stream",
     "text": [
      "Epoch 25/30 - Train Loss: 0.0526 | Test Loss: 0.2914 | Accuracy: 0.9200 | F1 Score: 0.9149 | AUC: 0.9200\n"
     ]
    },
    {
     "name": "stderr",
     "output_type": "stream",
     "text": [
      "Epoch 26/30 - Training: 100%|██████████| 52/52 [00:10<00:00,  5.18it/s]\n",
      "Epoch 26/30 - Evaluation: 100%|██████████| 4/4 [00:00<00:00, 13.63it/s]\n"
     ]
    },
    {
     "name": "stdout",
     "output_type": "stream",
     "text": [
      "Epoch 26/30 - Train Loss: 0.0126 | Test Loss: 0.1975 | Accuracy: 0.9400 | F1 Score: 0.9388 | AUC: 0.9400\n"
     ]
    },
    {
     "name": "stderr",
     "output_type": "stream",
     "text": [
      "Epoch 27/30 - Training: 100%|██████████| 52/52 [00:10<00:00,  5.17it/s]\n",
      "Epoch 27/30 - Evaluation: 100%|██████████| 4/4 [00:00<00:00, 13.91it/s]\n"
     ]
    },
    {
     "name": "stdout",
     "output_type": "stream",
     "text": [
      "Epoch 27/30 - Train Loss: 0.0230 | Test Loss: 0.2369 | Accuracy: 0.9400 | F1 Score: 0.9388 | AUC: 0.9400\n"
     ]
    },
    {
     "name": "stderr",
     "output_type": "stream",
     "text": [
      "Epoch 28/30 - Training: 100%|██████████| 52/52 [00:10<00:00,  5.18it/s]\n",
      "Epoch 28/30 - Evaluation: 100%|██████████| 4/4 [00:00<00:00, 14.03it/s]\n"
     ]
    },
    {
     "name": "stdout",
     "output_type": "stream",
     "text": [
      "Epoch 28/30 - Train Loss: 0.0139 | Test Loss: 0.1308 | Accuracy: 0.9600 | F1 Score: 0.9600 | AUC: 0.9600\n"
     ]
    },
    {
     "name": "stderr",
     "output_type": "stream",
     "text": [
      "Epoch 29/30 - Training: 100%|██████████| 52/52 [00:10<00:00,  5.20it/s]\n",
      "Epoch 29/30 - Evaluation: 100%|██████████| 4/4 [00:00<00:00, 14.13it/s]\n"
     ]
    },
    {
     "name": "stdout",
     "output_type": "stream",
     "text": [
      "Epoch 29/30 - Train Loss: 0.0215 | Test Loss: 0.3766 | Accuracy: 0.9300 | F1 Score: 0.9263 | AUC: 0.9300\n"
     ]
    },
    {
     "name": "stderr",
     "output_type": "stream",
     "text": [
      "Epoch 30/30 - Training: 100%|██████████| 52/52 [00:10<00:00,  5.19it/s]\n",
      "Epoch 30/30 - Evaluation: 100%|██████████| 4/4 [00:00<00:00, 14.18it/s]\n"
     ]
    },
    {
     "name": "stdout",
     "output_type": "stream",
     "text": [
      "Epoch 30/30 - Train Loss: 0.0082 | Test Loss: 0.1199 | Accuracy: 0.9700 | F1 Score: 0.9709 | AUC: 0.9700\n"
     ]
    }
   ],
   "source": [
    "criterion = nn.CrossEntropyLoss()\n",
    "optimizer = optim.Adam(model.parameters(), lr = 1e-4)\n",
    "num_epochs = 30\n",
    "model.to(device)\n",
    "train_model(model, criterion, optimizer, train_loader, test_loader, num_epochs, 'resnet34')"
   ]
  },
  {
   "attachments": {},
   "cell_type": "markdown",
   "metadata": {},
   "source": [
    "### ResNet50\n",
    "\n",
    "96% Average, 97% Saved"
   ]
  },
  {
   "cell_type": "code",
   "execution_count": 14,
   "metadata": {},
   "outputs": [
    {
     "name": "stderr",
     "output_type": "stream",
     "text": [
      "Downloading: \"https://download.pytorch.org/models/resnext50_32x4d-1a0047aa.pth\" to C:\\Users\\wiofi/.cache\\torch\\hub\\checkpoints\\resnext50_32x4d-1a0047aa.pth\n",
      "100%|██████████| 95.8M/95.8M [00:04<00:00, 24.7MB/s]\n"
     ]
    }
   ],
   "source": [
    "model = models.resnext50_32x4d(weights = 'DEFAULT')\n",
    "model.fc=nn.Linear(in_features = 2048, out_features = 2, bias = True)"
   ]
  },
  {
   "cell_type": "code",
   "execution_count": 16,
   "metadata": {},
   "outputs": [
    {
     "name": "stderr",
     "output_type": "stream",
     "text": [
      "Epoch 1/30 - Training: 100%|██████████| 52/52 [00:17<00:00,  3.04it/s]\n",
      "Epoch 1/30 - Evaluation: 100%|██████████| 4/4 [00:00<00:00,  8.91it/s]\n"
     ]
    },
    {
     "name": "stdout",
     "output_type": "stream",
     "text": [
      "Epoch 1/30 - Train Loss: 0.0352 | Test Loss: 0.6736 | Accuracy: 0.8500 | F1 Score: 0.8276 | AUC: 0.8500\n"
     ]
    },
    {
     "name": "stderr",
     "output_type": "stream",
     "text": [
      "Epoch 2/30 - Training: 100%|██████████| 52/52 [00:17<00:00,  2.96it/s]\n",
      "Epoch 2/30 - Evaluation: 100%|██████████| 4/4 [00:00<00:00,  9.09it/s]\n"
     ]
    },
    {
     "name": "stdout",
     "output_type": "stream",
     "text": [
      "Epoch 2/30 - Train Loss: 0.0169 | Test Loss: 0.2483 | Accuracy: 0.9100 | F1 Score: 0.9109 | AUC: 0.9100\n"
     ]
    },
    {
     "name": "stderr",
     "output_type": "stream",
     "text": [
      "Epoch 3/30 - Training: 100%|██████████| 52/52 [00:17<00:00,  2.99it/s]\n",
      "Epoch 3/30 - Evaluation: 100%|██████████| 4/4 [00:00<00:00,  9.28it/s]\n"
     ]
    },
    {
     "name": "stdout",
     "output_type": "stream",
     "text": [
      "Epoch 3/30 - Train Loss: 0.0122 | Test Loss: 0.3732 | Accuracy: 0.8800 | F1 Score: 0.8800 | AUC: 0.8800\n"
     ]
    },
    {
     "name": "stderr",
     "output_type": "stream",
     "text": [
      "Epoch 4/30 - Training: 100%|██████████| 52/52 [00:18<00:00,  2.75it/s]\n",
      "Epoch 4/30 - Evaluation: 100%|██████████| 4/4 [00:00<00:00,  8.13it/s]\n"
     ]
    },
    {
     "name": "stdout",
     "output_type": "stream",
     "text": [
      "Epoch 4/30 - Train Loss: 0.0176 | Test Loss: 0.5565 | Accuracy: 0.9000 | F1 Score: 0.9000 | AUC: 0.9000\n"
     ]
    },
    {
     "name": "stderr",
     "output_type": "stream",
     "text": [
      "Epoch 5/30 - Training: 100%|██████████| 52/52 [00:17<00:00,  3.04it/s]\n",
      "Epoch 5/30 - Evaluation: 100%|██████████| 4/4 [00:00<00:00,  9.71it/s]\n"
     ]
    },
    {
     "name": "stdout",
     "output_type": "stream",
     "text": [
      "Epoch 5/30 - Train Loss: 0.0054 | Test Loss: 0.4881 | Accuracy: 0.9100 | F1 Score: 0.9091 | AUC: 0.9100\n"
     ]
    },
    {
     "name": "stderr",
     "output_type": "stream",
     "text": [
      "Epoch 6/30 - Training: 100%|██████████| 52/52 [00:17<00:00,  3.00it/s]\n",
      "Epoch 6/30 - Evaluation: 100%|██████████| 4/4 [00:00<00:00,  9.75it/s]\n"
     ]
    },
    {
     "name": "stdout",
     "output_type": "stream",
     "text": [
      "Epoch 6/30 - Train Loss: 0.0045 | Test Loss: 0.4894 | Accuracy: 0.8700 | F1 Score: 0.8713 | AUC: 0.8700\n"
     ]
    },
    {
     "name": "stderr",
     "output_type": "stream",
     "text": [
      "Epoch 7/30 - Training: 100%|██████████| 52/52 [00:16<00:00,  3.09it/s]\n",
      "Epoch 7/30 - Evaluation: 100%|██████████| 4/4 [00:00<00:00,  9.80it/s]\n"
     ]
    },
    {
     "name": "stdout",
     "output_type": "stream",
     "text": [
      "Epoch 7/30 - Train Loss: 0.0194 | Test Loss: 0.3739 | Accuracy: 0.8400 | F1 Score: 0.8571 | AUC: 0.8400\n"
     ]
    },
    {
     "name": "stderr",
     "output_type": "stream",
     "text": [
      "Epoch 8/30 - Training: 100%|██████████| 52/52 [00:17<00:00,  3.01it/s]\n",
      "Epoch 8/30 - Evaluation: 100%|██████████| 4/4 [00:00<00:00,  9.88it/s]\n"
     ]
    },
    {
     "name": "stdout",
     "output_type": "stream",
     "text": [
      "Epoch 8/30 - Train Loss: 0.0126 | Test Loss: 0.3353 | Accuracy: 0.8700 | F1 Score: 0.8807 | AUC: 0.8700\n"
     ]
    },
    {
     "name": "stderr",
     "output_type": "stream",
     "text": [
      "Epoch 9/30 - Training: 100%|██████████| 52/52 [00:17<00:00,  2.96it/s]\n",
      "Epoch 9/30 - Evaluation: 100%|██████████| 4/4 [00:00<00:00,  9.03it/s]\n"
     ]
    },
    {
     "name": "stdout",
     "output_type": "stream",
     "text": [
      "Epoch 9/30 - Train Loss: 0.0208 | Test Loss: 0.7012 | Accuracy: 0.8200 | F1 Score: 0.7955 | AUC: 0.8200\n"
     ]
    },
    {
     "name": "stderr",
     "output_type": "stream",
     "text": [
      "Epoch 10/30 - Training: 100%|██████████| 52/52 [00:17<00:00,  3.05it/s]\n",
      "Epoch 10/30 - Evaluation: 100%|██████████| 4/4 [00:00<00:00,  9.11it/s]\n"
     ]
    },
    {
     "name": "stdout",
     "output_type": "stream",
     "text": [
      "Epoch 10/30 - Train Loss: 0.0072 | Test Loss: 0.2531 | Accuracy: 0.9000 | F1 Score: 0.8980 | AUC: 0.9000\n"
     ]
    },
    {
     "name": "stderr",
     "output_type": "stream",
     "text": [
      "Epoch 11/30 - Training: 100%|██████████| 52/52 [00:17<00:00,  3.02it/s]\n",
      "Epoch 11/30 - Evaluation: 100%|██████████| 4/4 [00:00<00:00,  8.69it/s]\n"
     ]
    },
    {
     "name": "stdout",
     "output_type": "stream",
     "text": [
      "Epoch 11/30 - Train Loss: 0.0084 | Test Loss: 0.4976 | Accuracy: 0.8500 | F1 Score: 0.8571 | AUC: 0.8500\n"
     ]
    },
    {
     "name": "stderr",
     "output_type": "stream",
     "text": [
      "Epoch 12/30 - Training: 100%|██████████| 52/52 [00:17<00:00,  3.03it/s]\n",
      "Epoch 12/30 - Evaluation: 100%|██████████| 4/4 [00:00<00:00,  8.81it/s]\n"
     ]
    },
    {
     "name": "stdout",
     "output_type": "stream",
     "text": [
      "Epoch 12/30 - Train Loss: 0.0088 | Test Loss: 0.3186 | Accuracy: 0.8700 | F1 Score: 0.8785 | AUC: 0.8700\n"
     ]
    },
    {
     "name": "stderr",
     "output_type": "stream",
     "text": [
      "Epoch 13/30 - Training: 100%|██████████| 52/52 [00:17<00:00,  3.02it/s]\n",
      "Epoch 13/30 - Evaluation: 100%|██████████| 4/4 [00:00<00:00,  8.85it/s]\n"
     ]
    },
    {
     "name": "stdout",
     "output_type": "stream",
     "text": [
      "Epoch 13/30 - Train Loss: 0.0382 | Test Loss: 0.4249 | Accuracy: 0.9000 | F1 Score: 0.8980 | AUC: 0.9000\n"
     ]
    },
    {
     "name": "stderr",
     "output_type": "stream",
     "text": [
      "Epoch 14/30 - Training: 100%|██████████| 52/52 [00:16<00:00,  3.10it/s]\n",
      "Epoch 14/30 - Evaluation: 100%|██████████| 4/4 [00:00<00:00,  9.05it/s]\n"
     ]
    },
    {
     "name": "stdout",
     "output_type": "stream",
     "text": [
      "Epoch 14/30 - Train Loss: 0.0199 | Test Loss: 0.9229 | Accuracy: 0.8500 | F1 Score: 0.8315 | AUC: 0.8500\n"
     ]
    },
    {
     "name": "stderr",
     "output_type": "stream",
     "text": [
      "Epoch 15/30 - Training: 100%|██████████| 52/52 [00:17<00:00,  2.89it/s]\n",
      "Epoch 15/30 - Evaluation: 100%|██████████| 4/4 [00:00<00:00,  8.73it/s]\n"
     ]
    },
    {
     "name": "stdout",
     "output_type": "stream",
     "text": [
      "Epoch 15/30 - Train Loss: 0.0076 | Test Loss: 0.5695 | Accuracy: 0.8600 | F1 Score: 0.8444 | AUC: 0.8600\n"
     ]
    },
    {
     "name": "stderr",
     "output_type": "stream",
     "text": [
      "Epoch 16/30 - Training: 100%|██████████| 52/52 [00:17<00:00,  3.06it/s]\n",
      "Epoch 16/30 - Evaluation: 100%|██████████| 4/4 [00:00<00:00,  8.91it/s]\n"
     ]
    },
    {
     "name": "stdout",
     "output_type": "stream",
     "text": [
      "Epoch 16/30 - Train Loss: 0.0077 | Test Loss: 0.5473 | Accuracy: 0.8400 | F1 Score: 0.8298 | AUC: 0.8400\n"
     ]
    },
    {
     "name": "stderr",
     "output_type": "stream",
     "text": [
      "Epoch 17/30 - Training: 100%|██████████| 52/52 [00:17<00:00,  3.05it/s]\n",
      "Epoch 17/30 - Evaluation: 100%|██████████| 4/4 [00:00<00:00,  8.77it/s]\n"
     ]
    },
    {
     "name": "stdout",
     "output_type": "stream",
     "text": [
      "Epoch 17/30 - Train Loss: 0.0028 | Test Loss: 0.7053 | Accuracy: 0.8500 | F1 Score: 0.8387 | AUC: 0.8500\n"
     ]
    },
    {
     "name": "stderr",
     "output_type": "stream",
     "text": [
      "Epoch 18/30 - Training: 100%|██████████| 52/52 [00:17<00:00,  3.04it/s]\n",
      "Epoch 18/30 - Evaluation: 100%|██████████| 4/4 [00:00<00:00,  8.95it/s]\n"
     ]
    },
    {
     "name": "stdout",
     "output_type": "stream",
     "text": [
      "Epoch 18/30 - Train Loss: 0.0028 | Test Loss: 0.9470 | Accuracy: 0.8600 | F1 Score: 0.8444 | AUC: 0.8600\n"
     ]
    },
    {
     "name": "stderr",
     "output_type": "stream",
     "text": [
      "Epoch 19/30 - Training: 100%|██████████| 52/52 [00:16<00:00,  3.11it/s]\n",
      "Epoch 19/30 - Evaluation: 100%|██████████| 4/4 [00:00<00:00,  9.05it/s]\n"
     ]
    },
    {
     "name": "stdout",
     "output_type": "stream",
     "text": [
      "Epoch 19/30 - Train Loss: 0.0057 | Test Loss: 0.4284 | Accuracy: 0.8700 | F1 Score: 0.8785 | AUC: 0.8700\n"
     ]
    },
    {
     "name": "stderr",
     "output_type": "stream",
     "text": [
      "Epoch 20/30 - Training: 100%|██████████| 52/52 [00:16<00:00,  3.11it/s]\n",
      "Epoch 20/30 - Evaluation: 100%|██████████| 4/4 [00:00<00:00,  8.64it/s]\n"
     ]
    },
    {
     "name": "stdout",
     "output_type": "stream",
     "text": [
      "Epoch 20/30 - Train Loss: 0.0346 | Test Loss: 0.6867 | Accuracy: 0.8800 | F1 Score: 0.8696 | AUC: 0.8800\n"
     ]
    },
    {
     "name": "stderr",
     "output_type": "stream",
     "text": [
      "Epoch 21/30 - Training: 100%|██████████| 52/52 [00:18<00:00,  2.80it/s]\n",
      "Epoch 21/30 - Evaluation: 100%|██████████| 4/4 [00:00<00:00,  8.79it/s]\n"
     ]
    },
    {
     "name": "stdout",
     "output_type": "stream",
     "text": [
      "Epoch 21/30 - Train Loss: 0.0737 | Test Loss: 0.4706 | Accuracy: 0.8700 | F1 Score: 0.8713 | AUC: 0.8700\n"
     ]
    },
    {
     "name": "stderr",
     "output_type": "stream",
     "text": [
      "Epoch 22/30 - Training: 100%|██████████| 52/52 [00:18<00:00,  2.84it/s]\n",
      "Epoch 22/30 - Evaluation: 100%|██████████| 4/4 [00:00<00:00,  9.01it/s]\n"
     ]
    },
    {
     "name": "stdout",
     "output_type": "stream",
     "text": [
      "Epoch 22/30 - Train Loss: 0.0207 | Test Loss: 0.6851 | Accuracy: 0.8400 | F1 Score: 0.8182 | AUC: 0.8400\n"
     ]
    },
    {
     "name": "stderr",
     "output_type": "stream",
     "text": [
      "Epoch 23/30 - Training: 100%|██████████| 52/52 [00:17<00:00,  3.01it/s]\n",
      "Epoch 23/30 - Evaluation: 100%|██████████| 4/4 [00:00<00:00,  9.95it/s]\n"
     ]
    },
    {
     "name": "stdout",
     "output_type": "stream",
     "text": [
      "Epoch 23/30 - Train Loss: 0.0123 | Test Loss: 0.4542 | Accuracy: 0.8400 | F1 Score: 0.8367 | AUC: 0.8400\n"
     ]
    },
    {
     "name": "stderr",
     "output_type": "stream",
     "text": [
      "Epoch 24/30 - Training: 100%|██████████| 52/52 [00:18<00:00,  2.89it/s]\n",
      "Epoch 24/30 - Evaluation: 100%|██████████| 4/4 [00:00<00:00,  9.06it/s]\n"
     ]
    },
    {
     "name": "stdout",
     "output_type": "stream",
     "text": [
      "Epoch 24/30 - Train Loss: 0.0121 | Test Loss: 0.6399 | Accuracy: 0.8500 | F1 Score: 0.8352 | AUC: 0.8500\n"
     ]
    },
    {
     "name": "stderr",
     "output_type": "stream",
     "text": [
      "Epoch 25/30 - Training: 100%|██████████| 52/52 [00:17<00:00,  2.95it/s]\n",
      "Epoch 25/30 - Evaluation: 100%|██████████| 4/4 [00:00<00:00,  8.77it/s]\n"
     ]
    },
    {
     "name": "stdout",
     "output_type": "stream",
     "text": [
      "Epoch 25/30 - Train Loss: 0.0413 | Test Loss: 0.5205 | Accuracy: 0.8600 | F1 Score: 0.8750 | AUC: 0.8600\n"
     ]
    },
    {
     "name": "stderr",
     "output_type": "stream",
     "text": [
      "Epoch 26/30 - Training: 100%|██████████| 52/52 [00:17<00:00,  3.01it/s]\n",
      "Epoch 26/30 - Evaluation: 100%|██████████| 4/4 [00:00<00:00,  8.79it/s]\n"
     ]
    },
    {
     "name": "stdout",
     "output_type": "stream",
     "text": [
      "Epoch 26/30 - Train Loss: 0.0622 | Test Loss: 0.3953 | Accuracy: 0.8800 | F1 Score: 0.8909 | AUC: 0.8800\n"
     ]
    },
    {
     "name": "stderr",
     "output_type": "stream",
     "text": [
      "Epoch 27/30 - Training: 100%|██████████| 52/52 [00:17<00:00,  3.05it/s]\n",
      "Epoch 27/30 - Evaluation: 100%|██████████| 4/4 [00:00<00:00,  8.55it/s]\n"
     ]
    },
    {
     "name": "stdout",
     "output_type": "stream",
     "text": [
      "Epoch 27/30 - Train Loss: 0.0235 | Test Loss: 0.4483 | Accuracy: 0.8500 | F1 Score: 0.8421 | AUC: 0.8500\n"
     ]
    },
    {
     "name": "stderr",
     "output_type": "stream",
     "text": [
      "Epoch 28/30 - Training: 100%|██████████| 52/52 [00:17<00:00,  3.05it/s]\n",
      "Epoch 28/30 - Evaluation: 100%|██████████| 4/4 [00:00<00:00,  8.91it/s]\n"
     ]
    },
    {
     "name": "stdout",
     "output_type": "stream",
     "text": [
      "Epoch 28/30 - Train Loss: 0.0320 | Test Loss: 0.3386 | Accuracy: 0.8900 | F1 Score: 0.8889 | AUC: 0.8900\n"
     ]
    },
    {
     "name": "stderr",
     "output_type": "stream",
     "text": [
      "Epoch 29/30 - Training: 100%|██████████| 52/52 [00:16<00:00,  3.14it/s]\n",
      "Epoch 29/30 - Evaluation: 100%|██████████| 4/4 [00:00<00:00,  8.75it/s]\n"
     ]
    },
    {
     "name": "stdout",
     "output_type": "stream",
     "text": [
      "Epoch 29/30 - Train Loss: 0.0295 | Test Loss: 0.3237 | Accuracy: 0.9200 | F1 Score: 0.9149 | AUC: 0.9200\n"
     ]
    },
    {
     "name": "stderr",
     "output_type": "stream",
     "text": [
      "Epoch 30/30 - Training: 100%|██████████| 52/52 [00:16<00:00,  3.14it/s]\n",
      "Epoch 30/30 - Evaluation: 100%|██████████| 4/4 [00:00<00:00,  9.39it/s]\n"
     ]
    },
    {
     "name": "stdout",
     "output_type": "stream",
     "text": [
      "Epoch 30/30 - Train Loss: 0.0119 | Test Loss: 0.2735 | Accuracy: 0.9600 | F1 Score: 0.9592 | AUC: 0.9600\n"
     ]
    }
   ],
   "source": [
    "criterion = nn.CrossEntropyLoss()\n",
    "optimizer = optim.Adam(model.parameters(), lr = 1e-4)\n",
    "num_epochs = 30\n",
    "model.to(device)\n",
    "train_model(model, criterion, optimizer, train_loader, test_loader, num_epochs, 'resnet50')"
   ]
  },
  {
   "attachments": {},
   "cell_type": "markdown",
   "metadata": {},
   "source": [
    "### ResNet18\n",
    "\n",
    "97% Average, 98% Saved"
   ]
  },
  {
   "cell_type": "code",
   "execution_count": 20,
   "metadata": {},
   "outputs": [],
   "source": [
    "model = models.resnet18(pretrained = True)\n",
    "model.fc = nn.Linear(in_features = 512, out_features = 2, bias = True)"
   ]
  },
  {
   "cell_type": "code",
   "execution_count": 21,
   "metadata": {},
   "outputs": [
    {
     "name": "stderr",
     "output_type": "stream",
     "text": [
      "Epoch 1/30 - Training: 100%|██████████| 52/52 [00:06<00:00,  7.86it/s]\n",
      "Epoch 1/30 - Evaluation: 100%|██████████| 4/4 [00:00<00:00, 17.85it/s]\n"
     ]
    },
    {
     "name": "stdout",
     "output_type": "stream",
     "text": [
      "Epoch 1/30 - Train Loss: 0.4919 | Test Loss: 0.9696 | Accuracy: 0.6700 | F1 Score: 0.5075 | AUC: 0.6700\n"
     ]
    },
    {
     "name": "stderr",
     "output_type": "stream",
     "text": [
      "Epoch 2/30 - Training: 100%|██████████| 52/52 [00:06<00:00,  7.86it/s]\n",
      "Epoch 2/30 - Evaluation: 100%|██████████| 4/4 [00:00<00:00, 17.46it/s]\n"
     ]
    },
    {
     "name": "stdout",
     "output_type": "stream",
     "text": [
      "Epoch 2/30 - Train Loss: 0.1485 | Test Loss: 0.5232 | Accuracy: 0.8400 | F1 Score: 0.8140 | AUC: 0.8400\n"
     ]
    },
    {
     "name": "stderr",
     "output_type": "stream",
     "text": [
      "Epoch 3/30 - Training: 100%|██████████| 52/52 [00:06<00:00,  7.79it/s]\n",
      "Epoch 3/30 - Evaluation: 100%|██████████| 4/4 [00:00<00:00, 17.93it/s]\n"
     ]
    },
    {
     "name": "stdout",
     "output_type": "stream",
     "text": [
      "Epoch 3/30 - Train Loss: 0.0475 | Test Loss: 0.3407 | Accuracy: 0.9100 | F1 Score: 0.9072 | AUC: 0.9100\n"
     ]
    },
    {
     "name": "stderr",
     "output_type": "stream",
     "text": [
      "Epoch 4/30 - Training: 100%|██████████| 52/52 [00:06<00:00,  7.59it/s]\n",
      "Epoch 4/30 - Evaluation: 100%|██████████| 4/4 [00:00<00:00, 17.62it/s]\n"
     ]
    },
    {
     "name": "stdout",
     "output_type": "stream",
     "text": [
      "Epoch 4/30 - Train Loss: 0.0243 | Test Loss: 0.3852 | Accuracy: 0.9000 | F1 Score: 0.8936 | AUC: 0.9000\n"
     ]
    },
    {
     "name": "stderr",
     "output_type": "stream",
     "text": [
      "Epoch 5/30 - Training: 100%|██████████| 52/52 [00:06<00:00,  7.69it/s]\n",
      "Epoch 5/30 - Evaluation: 100%|██████████| 4/4 [00:00<00:00, 17.27it/s]\n"
     ]
    },
    {
     "name": "stdout",
     "output_type": "stream",
     "text": [
      "Epoch 5/30 - Train Loss: 0.0317 | Test Loss: 0.2892 | Accuracy: 0.8600 | F1 Score: 0.8750 | AUC: 0.8600\n"
     ]
    },
    {
     "name": "stderr",
     "output_type": "stream",
     "text": [
      "Epoch 6/30 - Training: 100%|██████████| 52/52 [00:07<00:00,  7.39it/s]\n",
      "Epoch 6/30 - Evaluation: 100%|██████████| 4/4 [00:00<00:00, 16.13it/s]\n"
     ]
    },
    {
     "name": "stdout",
     "output_type": "stream",
     "text": [
      "Epoch 6/30 - Train Loss: 0.0520 | Test Loss: 0.5486 | Accuracy: 0.8700 | F1 Score: 0.8713 | AUC: 0.8700\n"
     ]
    },
    {
     "name": "stderr",
     "output_type": "stream",
     "text": [
      "Epoch 7/30 - Training: 100%|██████████| 52/52 [00:07<00:00,  7.36it/s]\n",
      "Epoch 7/30 - Evaluation: 100%|██████████| 4/4 [00:00<00:00, 17.24it/s]\n"
     ]
    },
    {
     "name": "stdout",
     "output_type": "stream",
     "text": [
      "Epoch 7/30 - Train Loss: 0.0263 | Test Loss: 0.4811 | Accuracy: 0.8900 | F1 Score: 0.8791 | AUC: 0.8900\n"
     ]
    },
    {
     "name": "stderr",
     "output_type": "stream",
     "text": [
      "Epoch 8/30 - Training: 100%|██████████| 52/52 [00:06<00:00,  7.59it/s]\n",
      "Epoch 8/30 - Evaluation: 100%|██████████| 4/4 [00:00<00:00, 17.09it/s]\n"
     ]
    },
    {
     "name": "stdout",
     "output_type": "stream",
     "text": [
      "Epoch 8/30 - Train Loss: 0.0092 | Test Loss: 0.6136 | Accuracy: 0.9000 | F1 Score: 0.8913 | AUC: 0.9000\n"
     ]
    },
    {
     "name": "stderr",
     "output_type": "stream",
     "text": [
      "Epoch 9/30 - Training: 100%|██████████| 52/52 [00:06<00:00,  7.66it/s]\n",
      "Epoch 9/30 - Evaluation: 100%|██████████| 4/4 [00:00<00:00, 17.54it/s]\n"
     ]
    },
    {
     "name": "stdout",
     "output_type": "stream",
     "text": [
      "Epoch 9/30 - Train Loss: 0.0087 | Test Loss: 0.3571 | Accuracy: 0.9100 | F1 Score: 0.9091 | AUC: 0.9100\n"
     ]
    },
    {
     "name": "stderr",
     "output_type": "stream",
     "text": [
      "Epoch 10/30 - Training: 100%|██████████| 52/52 [00:06<00:00,  7.52it/s]\n",
      "Epoch 10/30 - Evaluation: 100%|██████████| 4/4 [00:00<00:00, 14.49it/s]\n"
     ]
    },
    {
     "name": "stdout",
     "output_type": "stream",
     "text": [
      "Epoch 10/30 - Train Loss: 0.0148 | Test Loss: 0.5354 | Accuracy: 0.8500 | F1 Score: 0.8387 | AUC: 0.8500\n"
     ]
    },
    {
     "name": "stderr",
     "output_type": "stream",
     "text": [
      "Epoch 11/30 - Training: 100%|██████████| 52/52 [00:07<00:00,  7.37it/s]\n",
      "Epoch 11/30 - Evaluation: 100%|██████████| 4/4 [00:00<00:00, 17.93it/s]\n"
     ]
    },
    {
     "name": "stdout",
     "output_type": "stream",
     "text": [
      "Epoch 11/30 - Train Loss: 0.0078 | Test Loss: 0.3758 | Accuracy: 0.8900 | F1 Score: 0.8972 | AUC: 0.8900\n"
     ]
    },
    {
     "name": "stderr",
     "output_type": "stream",
     "text": [
      "Epoch 12/30 - Training: 100%|██████████| 52/52 [00:06<00:00,  7.58it/s]\n",
      "Epoch 12/30 - Evaluation: 100%|██████████| 4/4 [00:00<00:00, 17.77it/s]\n"
     ]
    },
    {
     "name": "stdout",
     "output_type": "stream",
     "text": [
      "Epoch 12/30 - Train Loss: 0.0076 | Test Loss: 0.3662 | Accuracy: 0.9100 | F1 Score: 0.9032 | AUC: 0.9100\n"
     ]
    },
    {
     "name": "stderr",
     "output_type": "stream",
     "text": [
      "Epoch 13/30 - Training: 100%|██████████| 52/52 [00:06<00:00,  7.62it/s]\n",
      "Epoch 13/30 - Evaluation: 100%|██████████| 4/4 [00:00<00:00, 17.62it/s]\n"
     ]
    },
    {
     "name": "stdout",
     "output_type": "stream",
     "text": [
      "Epoch 13/30 - Train Loss: 0.0229 | Test Loss: 0.2731 | Accuracy: 0.9100 | F1 Score: 0.9126 | AUC: 0.9100\n"
     ]
    },
    {
     "name": "stderr",
     "output_type": "stream",
     "text": [
      "Epoch 14/30 - Training: 100%|██████████| 52/52 [00:06<00:00,  7.51it/s]\n",
      "Epoch 14/30 - Evaluation: 100%|██████████| 4/4 [00:00<00:00, 17.85it/s]\n"
     ]
    },
    {
     "name": "stdout",
     "output_type": "stream",
     "text": [
      "Epoch 14/30 - Train Loss: 0.0673 | Test Loss: 0.4965 | Accuracy: 0.8400 | F1 Score: 0.8571 | AUC: 0.8400\n"
     ]
    },
    {
     "name": "stderr",
     "output_type": "stream",
     "text": [
      "Epoch 15/30 - Training: 100%|██████████| 52/52 [00:06<00:00,  7.80it/s]\n",
      "Epoch 15/30 - Evaluation: 100%|██████████| 4/4 [00:00<00:00, 17.93it/s]\n"
     ]
    },
    {
     "name": "stdout",
     "output_type": "stream",
     "text": [
      "Epoch 15/30 - Train Loss: 0.0530 | Test Loss: 0.2838 | Accuracy: 0.8900 | F1 Score: 0.8952 | AUC: 0.8900\n"
     ]
    },
    {
     "name": "stderr",
     "output_type": "stream",
     "text": [
      "Epoch 16/30 - Training: 100%|██████████| 52/52 [00:06<00:00,  7.74it/s]\n",
      "Epoch 16/30 - Evaluation: 100%|██████████| 4/4 [00:00<00:00, 17.39it/s]\n"
     ]
    },
    {
     "name": "stdout",
     "output_type": "stream",
     "text": [
      "Epoch 16/30 - Train Loss: 0.0374 | Test Loss: 0.2481 | Accuracy: 0.9200 | F1 Score: 0.9184 | AUC: 0.9200\n"
     ]
    },
    {
     "name": "stderr",
     "output_type": "stream",
     "text": [
      "Epoch 17/30 - Training: 100%|██████████| 52/52 [00:06<00:00,  7.66it/s]\n",
      "Epoch 17/30 - Evaluation: 100%|██████████| 4/4 [00:00<00:00, 17.85it/s]\n"
     ]
    },
    {
     "name": "stdout",
     "output_type": "stream",
     "text": [
      "Epoch 17/30 - Train Loss: 0.0453 | Test Loss: 0.5988 | Accuracy: 0.8700 | F1 Score: 0.8602 | AUC: 0.8700\n"
     ]
    },
    {
     "name": "stderr",
     "output_type": "stream",
     "text": [
      "Epoch 18/30 - Training: 100%|██████████| 52/52 [00:06<00:00,  7.69it/s]\n",
      "Epoch 18/30 - Evaluation: 100%|██████████| 4/4 [00:00<00:00, 17.70it/s]\n"
     ]
    },
    {
     "name": "stdout",
     "output_type": "stream",
     "text": [
      "Epoch 18/30 - Train Loss: 0.0136 | Test Loss: 0.1954 | Accuracy: 0.9400 | F1 Score: 0.9362 | AUC: 0.9400\n"
     ]
    },
    {
     "name": "stderr",
     "output_type": "stream",
     "text": [
      "Epoch 19/30 - Training: 100%|██████████| 52/52 [00:06<00:00,  7.55it/s]\n",
      "Epoch 19/30 - Evaluation: 100%|██████████| 4/4 [00:00<00:00, 16.13it/s]\n"
     ]
    },
    {
     "name": "stdout",
     "output_type": "stream",
     "text": [
      "Epoch 19/30 - Train Loss: 0.0415 | Test Loss: 0.2541 | Accuracy: 0.9000 | F1 Score: 0.8913 | AUC: 0.9000\n"
     ]
    },
    {
     "name": "stderr",
     "output_type": "stream",
     "text": [
      "Epoch 20/30 - Training: 100%|██████████| 52/52 [00:06<00:00,  7.68it/s]\n",
      "Epoch 20/30 - Evaluation: 100%|██████████| 4/4 [00:00<00:00, 17.93it/s]\n"
     ]
    },
    {
     "name": "stdout",
     "output_type": "stream",
     "text": [
      "Epoch 20/30 - Train Loss: 0.0852 | Test Loss: 0.4608 | Accuracy: 0.8900 | F1 Score: 0.8817 | AUC: 0.8900\n"
     ]
    },
    {
     "name": "stderr",
     "output_type": "stream",
     "text": [
      "Epoch 21/30 - Training: 100%|██████████| 52/52 [00:06<00:00,  7.64it/s]\n",
      "Epoch 21/30 - Evaluation: 100%|██████████| 4/4 [00:00<00:00, 17.39it/s]\n"
     ]
    },
    {
     "name": "stdout",
     "output_type": "stream",
     "text": [
      "Epoch 21/30 - Train Loss: 0.0211 | Test Loss: 0.1655 | Accuracy: 0.8900 | F1 Score: 0.8952 | AUC: 0.8900\n"
     ]
    },
    {
     "name": "stderr",
     "output_type": "stream",
     "text": [
      "Epoch 22/30 - Training: 100%|██████████| 52/52 [00:06<00:00,  7.67it/s]\n",
      "Epoch 22/30 - Evaluation: 100%|██████████| 4/4 [00:00<00:00, 18.01it/s]\n"
     ]
    },
    {
     "name": "stdout",
     "output_type": "stream",
     "text": [
      "Epoch 22/30 - Train Loss: 0.0055 | Test Loss: 0.1467 | Accuracy: 0.9500 | F1 Score: 0.9505 | AUC: 0.9500\n"
     ]
    },
    {
     "name": "stderr",
     "output_type": "stream",
     "text": [
      "Epoch 23/30 - Training: 100%|██████████| 52/52 [00:06<00:00,  7.68it/s]\n",
      "Epoch 23/30 - Evaluation: 100%|██████████| 4/4 [00:00<00:00, 17.46it/s]\n"
     ]
    },
    {
     "name": "stdout",
     "output_type": "stream",
     "text": [
      "Epoch 23/30 - Train Loss: 0.0065 | Test Loss: 0.1670 | Accuracy: 0.9400 | F1 Score: 0.9388 | AUC: 0.9400\n"
     ]
    },
    {
     "name": "stderr",
     "output_type": "stream",
     "text": [
      "Epoch 24/30 - Training: 100%|██████████| 52/52 [00:07<00:00,  7.40it/s]\n",
      "Epoch 24/30 - Evaluation: 100%|██████████| 4/4 [00:00<00:00, 17.31it/s]\n"
     ]
    },
    {
     "name": "stdout",
     "output_type": "stream",
     "text": [
      "Epoch 24/30 - Train Loss: 0.0028 | Test Loss: 0.1540 | Accuracy: 0.9600 | F1 Score: 0.9600 | AUC: 0.9600\n"
     ]
    },
    {
     "name": "stderr",
     "output_type": "stream",
     "text": [
      "Epoch 25/30 - Training: 100%|██████████| 52/52 [00:06<00:00,  7.56it/s]\n",
      "Epoch 25/30 - Evaluation: 100%|██████████| 4/4 [00:00<00:00, 18.18it/s]\n"
     ]
    },
    {
     "name": "stdout",
     "output_type": "stream",
     "text": [
      "Epoch 25/30 - Train Loss: 0.0049 | Test Loss: 0.1341 | Accuracy: 0.9700 | F1 Score: 0.9703 | AUC: 0.9700\n"
     ]
    },
    {
     "name": "stderr",
     "output_type": "stream",
     "text": [
      "Epoch 26/30 - Training: 100%|██████████| 52/52 [00:06<00:00,  7.68it/s]\n",
      "Epoch 26/30 - Evaluation: 100%|██████████| 4/4 [00:00<00:00, 18.10it/s]\n"
     ]
    },
    {
     "name": "stdout",
     "output_type": "stream",
     "text": [
      "Epoch 26/30 - Train Loss: 0.0027 | Test Loss: 0.2079 | Accuracy: 0.9100 | F1 Score: 0.9053 | AUC: 0.9100\n"
     ]
    },
    {
     "name": "stderr",
     "output_type": "stream",
     "text": [
      "Epoch 27/30 - Training: 100%|██████████| 52/52 [00:06<00:00,  7.56it/s]\n",
      "Epoch 27/30 - Evaluation: 100%|██████████| 4/4 [00:00<00:00, 17.39it/s]\n"
     ]
    },
    {
     "name": "stdout",
     "output_type": "stream",
     "text": [
      "Epoch 27/30 - Train Loss: 0.0026 | Test Loss: 0.1493 | Accuracy: 0.9500 | F1 Score: 0.9495 | AUC: 0.9500\n"
     ]
    },
    {
     "name": "stderr",
     "output_type": "stream",
     "text": [
      "Epoch 28/30 - Training: 100%|██████████| 52/52 [00:06<00:00,  7.68it/s]\n",
      "Epoch 28/30 - Evaluation: 100%|██████████| 4/4 [00:00<00:00, 17.39it/s]\n"
     ]
    },
    {
     "name": "stdout",
     "output_type": "stream",
     "text": [
      "Epoch 28/30 - Train Loss: 0.0047 | Test Loss: 0.1537 | Accuracy: 0.9500 | F1 Score: 0.9505 | AUC: 0.9500\n"
     ]
    },
    {
     "name": "stderr",
     "output_type": "stream",
     "text": [
      "Epoch 29/30 - Training: 100%|██████████| 52/52 [00:06<00:00,  7.72it/s]\n",
      "Epoch 29/30 - Evaluation: 100%|██████████| 4/4 [00:00<00:00, 17.77it/s]\n"
     ]
    },
    {
     "name": "stdout",
     "output_type": "stream",
     "text": [
      "Epoch 29/30 - Train Loss: 0.0028 | Test Loss: 0.3590 | Accuracy: 0.8900 | F1 Score: 0.8817 | AUC: 0.8900\n"
     ]
    },
    {
     "name": "stderr",
     "output_type": "stream",
     "text": [
      "Epoch 30/30 - Training: 100%|██████████| 52/52 [00:06<00:00,  7.69it/s]\n",
      "Epoch 30/30 - Evaluation: 100%|██████████| 4/4 [00:00<00:00, 17.85it/s]"
     ]
    },
    {
     "name": "stdout",
     "output_type": "stream",
     "text": [
      "Epoch 30/30 - Train Loss: 0.0022 | Test Loss: 0.1528 | Accuracy: 0.9500 | F1 Score: 0.9495 | AUC: 0.9500\n"
     ]
    },
    {
     "name": "stderr",
     "output_type": "stream",
     "text": [
      "\n"
     ]
    }
   ],
   "source": [
    "criterion = nn.CrossEntropyLoss()\n",
    "optimizer = optim.Adam(model.parameters(), lr = 1e-4)\n",
    "num_epochs = 30\n",
    "model.to(device)\n",
    "train_model(model, criterion, optimizer, train_loader, test_loader, num_epochs, 'resnet18')"
   ]
  },
  {
   "attachments": {},
   "cell_type": "markdown",
   "metadata": {},
   "source": [
    "## Mobilenet v3\n",
    "\n",
    "94% Average, 95% Saved"
   ]
  },
  {
   "cell_type": "code",
   "execution_count": 27,
   "metadata": {},
   "outputs": [],
   "source": [
    "model = models.mobilenet_v3_large(weights = 'DEFAULT')\n",
    "model.classifier[3] = nn.Linear(in_features = 1280, out_features = 2, bias = True)"
   ]
  },
  {
   "cell_type": "code",
   "execution_count": 28,
   "metadata": {},
   "outputs": [
    {
     "name": "stderr",
     "output_type": "stream",
     "text": [
      "Epoch 1/30 - Training: 100%|██████████| 52/52 [00:06<00:00,  7.89it/s]\n",
      "Epoch 1/30 - Evaluation: 100%|██████████| 4/4 [00:00<00:00, 17.39it/s]\n"
     ]
    },
    {
     "name": "stdout",
     "output_type": "stream",
     "text": [
      "Epoch 1/30 - Train Loss: 0.5356 | Test Loss: 0.6180 | Accuracy: 0.7200 | F1 Score: 0.6585 | AUC: 0.7200\n"
     ]
    },
    {
     "name": "stderr",
     "output_type": "stream",
     "text": [
      "Epoch 2/30 - Training: 100%|██████████| 52/52 [00:06<00:00,  7.91it/s]\n",
      "Epoch 2/30 - Evaluation: 100%|██████████| 4/4 [00:00<00:00, 17.39it/s]\n"
     ]
    },
    {
     "name": "stdout",
     "output_type": "stream",
     "text": [
      "Epoch 2/30 - Train Loss: 0.2802 | Test Loss: 0.5193 | Accuracy: 0.8100 | F1 Score: 0.7912 | AUC: 0.8100\n"
     ]
    },
    {
     "name": "stderr",
     "output_type": "stream",
     "text": [
      "Epoch 3/30 - Training: 100%|██████████| 52/52 [00:06<00:00,  8.06it/s]\n",
      "Epoch 3/30 - Evaluation: 100%|██████████| 4/4 [00:00<00:00, 17.62it/s]\n"
     ]
    },
    {
     "name": "stdout",
     "output_type": "stream",
     "text": [
      "Epoch 3/30 - Train Loss: 0.1335 | Test Loss: 0.5345 | Accuracy: 0.6600 | F1 Score: 0.7463 | AUC: 0.6600\n"
     ]
    },
    {
     "name": "stderr",
     "output_type": "stream",
     "text": [
      "Epoch 4/30 - Training: 100%|██████████| 52/52 [00:06<00:00,  7.99it/s]\n",
      "Epoch 4/30 - Evaluation: 100%|██████████| 4/4 [00:00<00:00, 17.85it/s]\n"
     ]
    },
    {
     "name": "stdout",
     "output_type": "stream",
     "text": [
      "Epoch 4/30 - Train Loss: 0.0672 | Test Loss: 0.4160 | Accuracy: 0.8300 | F1 Score: 0.8440 | AUC: 0.8300\n"
     ]
    },
    {
     "name": "stderr",
     "output_type": "stream",
     "text": [
      "Epoch 5/30 - Training: 100%|██████████| 52/52 [00:06<00:00,  8.21it/s]\n",
      "Epoch 5/30 - Evaluation: 100%|██████████| 4/4 [00:00<00:00, 18.34it/s]\n"
     ]
    },
    {
     "name": "stdout",
     "output_type": "stream",
     "text": [
      "Epoch 5/30 - Train Loss: 0.0521 | Test Loss: 0.4821 | Accuracy: 0.6700 | F1 Score: 0.7519 | AUC: 0.6700\n"
     ]
    },
    {
     "name": "stderr",
     "output_type": "stream",
     "text": [
      "Epoch 6/30 - Training: 100%|██████████| 52/52 [00:06<00:00,  7.97it/s]\n",
      "Epoch 6/30 - Evaluation: 100%|██████████| 4/4 [00:00<00:00, 17.62it/s]\n"
     ]
    },
    {
     "name": "stdout",
     "output_type": "stream",
     "text": [
      "Epoch 6/30 - Train Loss: 0.0302 | Test Loss: 0.4777 | Accuracy: 0.7200 | F1 Score: 0.7813 | AUC: 0.7200\n"
     ]
    },
    {
     "name": "stderr",
     "output_type": "stream",
     "text": [
      "Epoch 7/30 - Training: 100%|██████████| 52/52 [00:06<00:00,  8.13it/s]\n",
      "Epoch 7/30 - Evaluation: 100%|██████████| 4/4 [00:00<00:00, 18.51it/s]\n"
     ]
    },
    {
     "name": "stdout",
     "output_type": "stream",
     "text": [
      "Epoch 7/30 - Train Loss: 0.0273 | Test Loss: 0.4668 | Accuracy: 0.7100 | F1 Score: 0.7752 | AUC: 0.7100\n"
     ]
    },
    {
     "name": "stderr",
     "output_type": "stream",
     "text": [
      "Epoch 8/30 - Training: 100%|██████████| 52/52 [00:06<00:00,  8.16it/s]\n",
      "Epoch 8/30 - Evaluation: 100%|██████████| 4/4 [00:00<00:00, 18.18it/s]\n"
     ]
    },
    {
     "name": "stdout",
     "output_type": "stream",
     "text": [
      "Epoch 8/30 - Train Loss: 0.0207 | Test Loss: 0.3638 | Accuracy: 0.7800 | F1 Score: 0.8197 | AUC: 0.7800\n"
     ]
    },
    {
     "name": "stderr",
     "output_type": "stream",
     "text": [
      "Epoch 9/30 - Training: 100%|██████████| 52/52 [00:06<00:00,  7.92it/s]\n",
      "Epoch 9/30 - Evaluation: 100%|██████████| 4/4 [00:00<00:00, 17.09it/s]\n"
     ]
    },
    {
     "name": "stdout",
     "output_type": "stream",
     "text": [
      "Epoch 9/30 - Train Loss: 0.0122 | Test Loss: 0.3524 | Accuracy: 0.7700 | F1 Score: 0.8067 | AUC: 0.7700\n"
     ]
    },
    {
     "name": "stderr",
     "output_type": "stream",
     "text": [
      "Epoch 10/30 - Training: 100%|██████████| 52/52 [00:06<00:00,  7.97it/s]\n",
      "Epoch 10/30 - Evaluation: 100%|██████████| 4/4 [00:00<00:00, 18.43it/s]\n"
     ]
    },
    {
     "name": "stdout",
     "output_type": "stream",
     "text": [
      "Epoch 10/30 - Train Loss: 0.0121 | Test Loss: 0.3109 | Accuracy: 0.8300 | F1 Score: 0.8350 | AUC: 0.8300\n"
     ]
    },
    {
     "name": "stderr",
     "output_type": "stream",
     "text": [
      "Epoch 11/30 - Training: 100%|██████████| 52/52 [00:06<00:00,  8.12it/s]\n",
      "Epoch 11/30 - Evaluation: 100%|██████████| 4/4 [00:00<00:00, 18.01it/s]\n"
     ]
    },
    {
     "name": "stdout",
     "output_type": "stream",
     "text": [
      "Epoch 11/30 - Train Loss: 0.0136 | Test Loss: 0.3700 | Accuracy: 0.8500 | F1 Score: 0.8454 | AUC: 0.8500\n"
     ]
    },
    {
     "name": "stderr",
     "output_type": "stream",
     "text": [
      "Epoch 12/30 - Training: 100%|██████████| 52/52 [00:06<00:00,  8.38it/s]\n",
      "Epoch 12/30 - Evaluation: 100%|██████████| 4/4 [00:00<00:00, 18.26it/s]\n"
     ]
    },
    {
     "name": "stdout",
     "output_type": "stream",
     "text": [
      "Epoch 12/30 - Train Loss: 0.0192 | Test Loss: 0.2939 | Accuracy: 0.8700 | F1 Score: 0.8660 | AUC: 0.8700\n"
     ]
    },
    {
     "name": "stderr",
     "output_type": "stream",
     "text": [
      "Epoch 13/30 - Training: 100%|██████████| 52/52 [00:06<00:00,  8.37it/s]\n",
      "Epoch 13/30 - Evaluation: 100%|██████████| 4/4 [00:00<00:00, 18.73it/s]\n"
     ]
    },
    {
     "name": "stdout",
     "output_type": "stream",
     "text": [
      "Epoch 13/30 - Train Loss: 0.0078 | Test Loss: 0.2796 | Accuracy: 0.8800 | F1 Score: 0.8909 | AUC: 0.8800\n"
     ]
    },
    {
     "name": "stderr",
     "output_type": "stream",
     "text": [
      "Epoch 14/30 - Training: 100%|██████████| 52/52 [00:06<00:00,  8.36it/s]\n",
      "Epoch 14/30 - Evaluation: 100%|██████████| 4/4 [00:00<00:00, 18.69it/s]\n"
     ]
    },
    {
     "name": "stdout",
     "output_type": "stream",
     "text": [
      "Epoch 14/30 - Train Loss: 0.0100 | Test Loss: 0.2633 | Accuracy: 0.8700 | F1 Score: 0.8807 | AUC: 0.8700\n"
     ]
    },
    {
     "name": "stderr",
     "output_type": "stream",
     "text": [
      "Epoch 15/30 - Training: 100%|██████████| 52/52 [00:06<00:00,  8.22it/s]\n",
      "Epoch 15/30 - Evaluation: 100%|██████████| 4/4 [00:00<00:00, 18.01it/s]\n"
     ]
    },
    {
     "name": "stdout",
     "output_type": "stream",
     "text": [
      "Epoch 15/30 - Train Loss: 0.0179 | Test Loss: 0.2263 | Accuracy: 0.8600 | F1 Score: 0.8750 | AUC: 0.8600\n"
     ]
    },
    {
     "name": "stderr",
     "output_type": "stream",
     "text": [
      "Epoch 16/30 - Training: 100%|██████████| 52/52 [00:06<00:00,  8.42it/s]\n",
      "Epoch 16/30 - Evaluation: 100%|██████████| 4/4 [00:00<00:00, 18.26it/s]\n"
     ]
    },
    {
     "name": "stdout",
     "output_type": "stream",
     "text": [
      "Epoch 16/30 - Train Loss: 0.0255 | Test Loss: 0.1688 | Accuracy: 0.9100 | F1 Score: 0.9109 | AUC: 0.9100\n"
     ]
    },
    {
     "name": "stderr",
     "output_type": "stream",
     "text": [
      "Epoch 17/30 - Training: 100%|██████████| 52/52 [00:06<00:00,  8.22it/s]\n",
      "Epoch 17/30 - Evaluation: 100%|██████████| 4/4 [00:00<00:00, 18.69it/s]\n"
     ]
    },
    {
     "name": "stdout",
     "output_type": "stream",
     "text": [
      "Epoch 17/30 - Train Loss: 0.0117 | Test Loss: 0.2533 | Accuracy: 0.9000 | F1 Score: 0.9057 | AUC: 0.9000\n"
     ]
    },
    {
     "name": "stderr",
     "output_type": "stream",
     "text": [
      "Epoch 18/30 - Training: 100%|██████████| 52/52 [00:06<00:00,  8.43it/s]\n",
      "Epoch 18/30 - Evaluation: 100%|██████████| 4/4 [00:00<00:00, 18.18it/s]\n"
     ]
    },
    {
     "name": "stdout",
     "output_type": "stream",
     "text": [
      "Epoch 18/30 - Train Loss: 0.0051 | Test Loss: 0.3738 | Accuracy: 0.8800 | F1 Score: 0.8824 | AUC: 0.8800\n"
     ]
    },
    {
     "name": "stderr",
     "output_type": "stream",
     "text": [
      "Epoch 19/30 - Training: 100%|██████████| 52/52 [00:06<00:00,  8.29it/s]\n",
      "Epoch 19/30 - Evaluation: 100%|██████████| 4/4 [00:00<00:00, 18.18it/s]\n"
     ]
    },
    {
     "name": "stdout",
     "output_type": "stream",
     "text": [
      "Epoch 19/30 - Train Loss: 0.0047 | Test Loss: 0.2835 | Accuracy: 0.8900 | F1 Score: 0.8932 | AUC: 0.8900\n"
     ]
    },
    {
     "name": "stderr",
     "output_type": "stream",
     "text": [
      "Epoch 20/30 - Training: 100%|██████████| 52/52 [00:06<00:00,  8.34it/s]\n",
      "Epoch 20/30 - Evaluation: 100%|██████████| 4/4 [00:00<00:00, 18.18it/s]\n"
     ]
    },
    {
     "name": "stdout",
     "output_type": "stream",
     "text": [
      "Epoch 20/30 - Train Loss: 0.0032 | Test Loss: 0.2737 | Accuracy: 0.9200 | F1 Score: 0.9200 | AUC: 0.9200\n"
     ]
    },
    {
     "name": "stderr",
     "output_type": "stream",
     "text": [
      "Epoch 21/30 - Training: 100%|██████████| 52/52 [00:06<00:00,  8.22it/s]\n",
      "Epoch 21/30 - Evaluation: 100%|██████████| 4/4 [00:00<00:00, 18.01it/s]\n"
     ]
    },
    {
     "name": "stdout",
     "output_type": "stream",
     "text": [
      "Epoch 21/30 - Train Loss: 0.0021 | Test Loss: 0.2783 | Accuracy: 0.9200 | F1 Score: 0.9200 | AUC: 0.9200\n"
     ]
    },
    {
     "name": "stderr",
     "output_type": "stream",
     "text": [
      "Epoch 22/30 - Training: 100%|██████████| 52/52 [00:06<00:00,  8.37it/s]\n",
      "Epoch 22/30 - Evaluation: 100%|██████████| 4/4 [00:00<00:00, 17.93it/s]\n"
     ]
    },
    {
     "name": "stdout",
     "output_type": "stream",
     "text": [
      "Epoch 22/30 - Train Loss: 0.0294 | Test Loss: 0.2612 | Accuracy: 0.9300 | F1 Score: 0.9307 | AUC: 0.9300\n"
     ]
    },
    {
     "name": "stderr",
     "output_type": "stream",
     "text": [
      "Epoch 23/30 - Training: 100%|██████████| 52/52 [00:06<00:00,  8.19it/s]\n",
      "Epoch 23/30 - Evaluation: 100%|██████████| 4/4 [00:00<00:00, 18.34it/s]\n"
     ]
    },
    {
     "name": "stdout",
     "output_type": "stream",
     "text": [
      "Epoch 23/30 - Train Loss: 0.0514 | Test Loss: 0.3185 | Accuracy: 0.8700 | F1 Score: 0.8738 | AUC: 0.8700\n"
     ]
    },
    {
     "name": "stderr",
     "output_type": "stream",
     "text": [
      "Epoch 24/30 - Training: 100%|██████████| 52/52 [00:06<00:00,  8.39it/s]\n",
      "Epoch 24/30 - Evaluation: 100%|██████████| 4/4 [00:00<00:00, 18.01it/s]\n"
     ]
    },
    {
     "name": "stdout",
     "output_type": "stream",
     "text": [
      "Epoch 24/30 - Train Loss: 0.0109 | Test Loss: 0.2455 | Accuracy: 0.9100 | F1 Score: 0.9126 | AUC: 0.9100\n"
     ]
    },
    {
     "name": "stderr",
     "output_type": "stream",
     "text": [
      "Epoch 25/30 - Training: 100%|██████████| 52/52 [00:06<00:00,  8.41it/s]\n",
      "Epoch 25/30 - Evaluation: 100%|██████████| 4/4 [00:00<00:00, 18.18it/s]\n"
     ]
    },
    {
     "name": "stdout",
     "output_type": "stream",
     "text": [
      "Epoch 25/30 - Train Loss: 0.0040 | Test Loss: 0.2437 | Accuracy: 0.9400 | F1 Score: 0.9400 | AUC: 0.9400\n"
     ]
    },
    {
     "name": "stderr",
     "output_type": "stream",
     "text": [
      "Epoch 26/30 - Training: 100%|██████████| 52/52 [00:06<00:00,  8.18it/s]\n",
      "Epoch 26/30 - Evaluation: 100%|██████████| 4/4 [00:00<00:00, 18.18it/s]\n"
     ]
    },
    {
     "name": "stdout",
     "output_type": "stream",
     "text": [
      "Epoch 26/30 - Train Loss: 0.0041 | Test Loss: 0.2972 | Accuracy: 0.9200 | F1 Score: 0.9184 | AUC: 0.9200\n"
     ]
    },
    {
     "name": "stderr",
     "output_type": "stream",
     "text": [
      "Epoch 27/30 - Training: 100%|██████████| 52/52 [00:06<00:00,  8.34it/s]\n",
      "Epoch 27/30 - Evaluation: 100%|██████████| 4/4 [00:00<00:00, 18.34it/s]\n"
     ]
    },
    {
     "name": "stdout",
     "output_type": "stream",
     "text": [
      "Epoch 27/30 - Train Loss: 0.0021 | Test Loss: 0.2977 | Accuracy: 0.9300 | F1 Score: 0.9293 | AUC: 0.9300\n"
     ]
    },
    {
     "name": "stderr",
     "output_type": "stream",
     "text": [
      "Epoch 28/30 - Training: 100%|██████████| 52/52 [00:06<00:00,  8.45it/s]\n",
      "Epoch 28/30 - Evaluation: 100%|██████████| 4/4 [00:00<00:00, 18.18it/s]\n"
     ]
    },
    {
     "name": "stdout",
     "output_type": "stream",
     "text": [
      "Epoch 28/30 - Train Loss: 0.0102 | Test Loss: 0.2977 | Accuracy: 0.9200 | F1 Score: 0.9167 | AUC: 0.9200\n"
     ]
    },
    {
     "name": "stderr",
     "output_type": "stream",
     "text": [
      "Epoch 29/30 - Training: 100%|██████████| 52/52 [00:06<00:00,  8.39it/s]\n",
      "Epoch 29/30 - Evaluation: 100%|██████████| 4/4 [00:00<00:00, 18.01it/s]\n"
     ]
    },
    {
     "name": "stdout",
     "output_type": "stream",
     "text": [
      "Epoch 29/30 - Train Loss: 0.0053 | Test Loss: 0.2480 | Accuracy: 0.9000 | F1 Score: 0.9000 | AUC: 0.9000\n"
     ]
    },
    {
     "name": "stderr",
     "output_type": "stream",
     "text": [
      "Epoch 30/30 - Training: 100%|██████████| 52/52 [00:06<00:00,  8.17it/s]\n",
      "Epoch 30/30 - Evaluation: 100%|██████████| 4/4 [00:00<00:00, 18.51it/s]"
     ]
    },
    {
     "name": "stdout",
     "output_type": "stream",
     "text": [
      "Epoch 30/30 - Train Loss: 0.0070 | Test Loss: 0.2826 | Accuracy: 0.9000 | F1 Score: 0.9000 | AUC: 0.9000\n"
     ]
    },
    {
     "name": "stderr",
     "output_type": "stream",
     "text": [
      "\n"
     ]
    }
   ],
   "source": [
    "criterion = nn.CrossEntropyLoss()\n",
    "optimizer = optim.Adam(model.parameters(), lr = 1e-4)\n",
    "num_epochs = 30\n",
    "model.to(device)\n",
    "train_model(model, criterion, optimizer, train_loader, test_loader, num_epochs, 'mobilenet')"
   ]
  },
  {
   "attachments": {},
   "cell_type": "markdown",
   "metadata": {},
   "source": [
    "### ShuffleNet v2\n",
    "\n",
    "89%, abandoned"
   ]
  },
  {
   "cell_type": "code",
   "execution_count": 31,
   "metadata": {},
   "outputs": [],
   "source": [
    "model = models.shufflenet_v2_x1_0(weights = 'DEFAULT')\n",
    "model.fc = nn.Linear(in_features = 1024, out_features = 2, bias = True)"
   ]
  },
  {
   "cell_type": "code",
   "execution_count": 32,
   "metadata": {},
   "outputs": [
    {
     "name": "stderr",
     "output_type": "stream",
     "text": [
      "Epoch 1/30 - Training: 100%|██████████| 52/52 [00:04<00:00, 12.44it/s]\n",
      "Epoch 1/30 - Evaluation: 100%|██████████| 4/4 [00:00<00:00, 21.97it/s]\n"
     ]
    },
    {
     "name": "stdout",
     "output_type": "stream",
     "text": [
      "Epoch 1/30 - Train Loss: 0.6769 | Test Loss: 0.6392 | Accuracy: 0.7700 | F1 Score: 0.8034 | AUC: 0.7700\n"
     ]
    },
    {
     "name": "stderr",
     "output_type": "stream",
     "text": [
      "Epoch 2/30 - Training: 100%|██████████| 52/52 [00:04<00:00, 12.77it/s]\n",
      "Epoch 2/30 - Evaluation: 100%|██████████| 4/4 [00:00<00:00, 21.27it/s]\n"
     ]
    },
    {
     "name": "stdout",
     "output_type": "stream",
     "text": [
      "Epoch 2/30 - Train Loss: 0.5922 | Test Loss: 0.4845 | Accuracy: 0.8500 | F1 Score: 0.8598 | AUC: 0.8500\n"
     ]
    },
    {
     "name": "stderr",
     "output_type": "stream",
     "text": [
      "Epoch 3/30 - Training: 100%|██████████| 52/52 [00:04<00:00, 12.72it/s]\n",
      "Epoch 3/30 - Evaluation: 100%|██████████| 4/4 [00:00<00:00, 21.50it/s]\n"
     ]
    },
    {
     "name": "stdout",
     "output_type": "stream",
     "text": [
      "Epoch 3/30 - Train Loss: 0.4882 | Test Loss: 0.4163 | Accuracy: 0.8500 | F1 Score: 0.8571 | AUC: 0.8500\n"
     ]
    },
    {
     "name": "stderr",
     "output_type": "stream",
     "text": [
      "Epoch 4/30 - Training: 100%|██████████| 52/52 [00:04<00:00, 12.07it/s]\n",
      "Epoch 4/30 - Evaluation: 100%|██████████| 4/4 [00:00<00:00, 21.36it/s]\n"
     ]
    },
    {
     "name": "stdout",
     "output_type": "stream",
     "text": [
      "Epoch 4/30 - Train Loss: 0.3899 | Test Loss: 0.4275 | Accuracy: 0.8800 | F1 Score: 0.8800 | AUC: 0.8800\n"
     ]
    },
    {
     "name": "stderr",
     "output_type": "stream",
     "text": [
      "Epoch 5/30 - Training: 100%|██████████| 52/52 [00:04<00:00, 12.78it/s]\n",
      "Epoch 5/30 - Evaluation: 100%|██████████| 4/4 [00:00<00:00, 21.85it/s]\n"
     ]
    },
    {
     "name": "stdout",
     "output_type": "stream",
     "text": [
      "Epoch 5/30 - Train Loss: 0.2941 | Test Loss: 0.4381 | Accuracy: 0.8700 | F1 Score: 0.8660 | AUC: 0.8700\n"
     ]
    },
    {
     "name": "stderr",
     "output_type": "stream",
     "text": [
      "Epoch 6/30 - Training: 100%|██████████| 52/52 [00:04<00:00, 12.79it/s]\n",
      "Epoch 6/30 - Evaluation: 100%|██████████| 4/4 [00:00<00:00, 21.73it/s]\n"
     ]
    },
    {
     "name": "stdout",
     "output_type": "stream",
     "text": [
      "Epoch 6/30 - Train Loss: 0.2237 | Test Loss: 0.4233 | Accuracy: 0.8700 | F1 Score: 0.8738 | AUC: 0.8700\n"
     ]
    },
    {
     "name": "stderr",
     "output_type": "stream",
     "text": [
      "Epoch 7/30 - Training: 100%|██████████| 52/52 [00:04<00:00, 12.71it/s]\n",
      "Epoch 7/30 - Evaluation: 100%|██████████| 4/4 [00:00<00:00, 21.16it/s]\n"
     ]
    },
    {
     "name": "stdout",
     "output_type": "stream",
     "text": [
      "Epoch 7/30 - Train Loss: 0.1512 | Test Loss: 0.4963 | Accuracy: 0.8400 | F1 Score: 0.8333 | AUC: 0.8400\n"
     ]
    },
    {
     "name": "stderr",
     "output_type": "stream",
     "text": [
      "Epoch 8/30 - Training: 100%|██████████| 52/52 [00:04<00:00, 12.73it/s]\n",
      "Epoch 8/30 - Evaluation: 100%|██████████| 4/4 [00:00<00:00, 21.16it/s]\n"
     ]
    },
    {
     "name": "stdout",
     "output_type": "stream",
     "text": [
      "Epoch 8/30 - Train Loss: 0.1112 | Test Loss: 0.4053 | Accuracy: 0.8500 | F1 Score: 0.8544 | AUC: 0.8500\n"
     ]
    },
    {
     "name": "stderr",
     "output_type": "stream",
     "text": [
      "Epoch 9/30 - Training: 100%|██████████| 52/52 [00:04<00:00, 12.70it/s]\n",
      "Epoch 9/30 - Evaluation: 100%|██████████| 4/4 [00:00<00:00, 21.16it/s]\n"
     ]
    },
    {
     "name": "stdout",
     "output_type": "stream",
     "text": [
      "Epoch 9/30 - Train Loss: 0.0768 | Test Loss: 0.4391 | Accuracy: 0.8900 | F1 Score: 0.8889 | AUC: 0.8900\n"
     ]
    },
    {
     "name": "stderr",
     "output_type": "stream",
     "text": [
      "Epoch 10/30 - Training: 100%|██████████| 52/52 [00:04<00:00, 12.41it/s]\n",
      "Epoch 10/30 - Evaluation: 100%|██████████| 4/4 [00:00<00:00, 20.83it/s]\n"
     ]
    },
    {
     "name": "stdout",
     "output_type": "stream",
     "text": [
      "Epoch 10/30 - Train Loss: 0.0537 | Test Loss: 0.5302 | Accuracy: 0.8600 | F1 Score: 0.8571 | AUC: 0.8600\n"
     ]
    },
    {
     "name": "stderr",
     "output_type": "stream",
     "text": [
      "Epoch 11/30 - Training: 100%|██████████| 52/52 [00:04<00:00, 12.61it/s]\n",
      "Epoch 11/30 - Evaluation: 100%|██████████| 4/4 [00:00<00:00, 20.72it/s]\n"
     ]
    },
    {
     "name": "stdout",
     "output_type": "stream",
     "text": [
      "Epoch 11/30 - Train Loss: 0.0444 | Test Loss: 0.5489 | Accuracy: 0.8900 | F1 Score: 0.8866 | AUC: 0.8900\n"
     ]
    },
    {
     "name": "stderr",
     "output_type": "stream",
     "text": [
      "Epoch 12/30 - Training: 100%|██████████| 52/52 [00:04<00:00, 12.72it/s]\n",
      "Epoch 12/30 - Evaluation: 100%|██████████| 4/4 [00:00<00:00, 20.72it/s]\n"
     ]
    },
    {
     "name": "stdout",
     "output_type": "stream",
     "text": [
      "Epoch 12/30 - Train Loss: 0.0496 | Test Loss: 0.4958 | Accuracy: 0.8600 | F1 Score: 0.8627 | AUC: 0.8600\n"
     ]
    },
    {
     "name": "stderr",
     "output_type": "stream",
     "text": [
      "Epoch 13/30 - Training: 100%|██████████| 52/52 [00:04<00:00, 12.51it/s]\n",
      "Epoch 13/30 - Evaluation: 100%|██████████| 4/4 [00:00<00:00, 19.80it/s]\n"
     ]
    },
    {
     "name": "stdout",
     "output_type": "stream",
     "text": [
      "Epoch 13/30 - Train Loss: 0.0357 | Test Loss: 0.5447 | Accuracy: 0.8800 | F1 Score: 0.8750 | AUC: 0.8800\n"
     ]
    },
    {
     "name": "stderr",
     "output_type": "stream",
     "text": [
      "Epoch 14/30 - Training: 100%|██████████| 52/52 [00:04<00:00, 12.18it/s]\n",
      "Epoch 14/30 - Evaluation: 100%|██████████| 4/4 [00:00<00:00, 20.72it/s]\n"
     ]
    },
    {
     "name": "stdout",
     "output_type": "stream",
     "text": [
      "Epoch 14/30 - Train Loss: 0.0199 | Test Loss: 0.6194 | Accuracy: 0.8600 | F1 Score: 0.8571 | AUC: 0.8600\n"
     ]
    },
    {
     "name": "stderr",
     "output_type": "stream",
     "text": [
      "Epoch 15/30 - Training: 100%|██████████| 52/52 [00:04<00:00, 12.47it/s]\n",
      "Epoch 15/30 - Evaluation: 100%|██████████| 4/4 [00:00<00:00, 20.83it/s]\n"
     ]
    },
    {
     "name": "stdout",
     "output_type": "stream",
     "text": [
      "Epoch 15/30 - Train Loss: 0.0192 | Test Loss: 0.6005 | Accuracy: 0.8800 | F1 Score: 0.8776 | AUC: 0.8800\n"
     ]
    },
    {
     "name": "stderr",
     "output_type": "stream",
     "text": [
      "Epoch 16/30 - Training: 100%|██████████| 52/52 [00:04<00:00, 12.66it/s]\n",
      "Epoch 16/30 - Evaluation: 100%|██████████| 4/4 [00:00<00:00, 21.05it/s]\n"
     ]
    },
    {
     "name": "stdout",
     "output_type": "stream",
     "text": [
      "Epoch 16/30 - Train Loss: 0.0716 | Test Loss: 0.4437 | Accuracy: 0.8800 | F1 Score: 0.8846 | AUC: 0.8800\n"
     ]
    },
    {
     "name": "stderr",
     "output_type": "stream",
     "text": [
      "Epoch 17/30 - Training: 100%|██████████| 52/52 [00:04<00:00, 12.65it/s]\n",
      "Epoch 17/30 - Evaluation: 100%|██████████| 4/4 [00:00<00:00, 20.72it/s]\n"
     ]
    },
    {
     "name": "stdout",
     "output_type": "stream",
     "text": [
      "Epoch 17/30 - Train Loss: 0.0408 | Test Loss: 0.5650 | Accuracy: 0.8900 | F1 Score: 0.8889 | AUC: 0.8900\n"
     ]
    },
    {
     "name": "stderr",
     "output_type": "stream",
     "text": [
      "Epoch 18/30 - Training: 100%|██████████| 52/52 [00:04<00:00, 12.48it/s]\n",
      "Epoch 18/30 - Evaluation: 100%|██████████| 4/4 [00:00<00:00, 21.62it/s]\n"
     ]
    },
    {
     "name": "stdout",
     "output_type": "stream",
     "text": [
      "Epoch 18/30 - Train Loss: 0.0384 | Test Loss: 0.4776 | Accuracy: 0.8900 | F1 Score: 0.8911 | AUC: 0.8900\n"
     ]
    },
    {
     "name": "stderr",
     "output_type": "stream",
     "text": [
      "Epoch 19/30 - Training: 100%|██████████| 52/52 [00:04<00:00, 12.48it/s]\n",
      "Epoch 19/30 - Evaluation: 100%|██████████| 4/4 [00:00<00:00, 20.94it/s]\n"
     ]
    },
    {
     "name": "stdout",
     "output_type": "stream",
     "text": [
      "Epoch 19/30 - Train Loss: 0.0257 | Test Loss: 0.5058 | Accuracy: 0.8900 | F1 Score: 0.8866 | AUC: 0.8900\n"
     ]
    },
    {
     "name": "stderr",
     "output_type": "stream",
     "text": [
      "Epoch 20/30 - Training: 100%|██████████| 52/52 [00:04<00:00, 12.53it/s]\n",
      "Epoch 20/30 - Evaluation: 100%|██████████| 4/4 [00:00<00:00, 20.61it/s]\n"
     ]
    },
    {
     "name": "stdout",
     "output_type": "stream",
     "text": [
      "Epoch 20/30 - Train Loss: 0.0241 | Test Loss: 0.6750 | Accuracy: 0.8600 | F1 Score: 0.8571 | AUC: 0.8600\n"
     ]
    },
    {
     "name": "stderr",
     "output_type": "stream",
     "text": [
      "Epoch 21/30 - Training: 100%|██████████| 52/52 [00:04<00:00, 12.61it/s]\n",
      "Epoch 21/30 - Evaluation: 100%|██████████| 4/4 [00:00<00:00, 21.50it/s]\n"
     ]
    },
    {
     "name": "stdout",
     "output_type": "stream",
     "text": [
      "Epoch 21/30 - Train Loss: 0.0233 | Test Loss: 0.6785 | Accuracy: 0.8500 | F1 Score: 0.8454 | AUC: 0.8500\n"
     ]
    },
    {
     "name": "stderr",
     "output_type": "stream",
     "text": [
      "Epoch 22/30 - Training: 100%|██████████| 52/52 [00:04<00:00, 12.55it/s]\n",
      "Epoch 22/30 - Evaluation: 100%|██████████| 4/4 [00:00<00:00, 21.62it/s]\n"
     ]
    },
    {
     "name": "stdout",
     "output_type": "stream",
     "text": [
      "Epoch 22/30 - Train Loss: 0.0169 | Test Loss: 0.6830 | Accuracy: 0.8700 | F1 Score: 0.8687 | AUC: 0.8700\n"
     ]
    },
    {
     "name": "stderr",
     "output_type": "stream",
     "text": [
      "Epoch 23/30 - Training: 100%|██████████| 52/52 [00:04<00:00, 12.28it/s]\n",
      "Epoch 23/30 - Evaluation: 100%|██████████| 4/4 [00:00<00:00, 20.72it/s]\n"
     ]
    },
    {
     "name": "stdout",
     "output_type": "stream",
     "text": [
      "Epoch 23/30 - Train Loss: 0.0146 | Test Loss: 0.6478 | Accuracy: 0.8600 | F1 Score: 0.8571 | AUC: 0.8600\n"
     ]
    },
    {
     "name": "stderr",
     "output_type": "stream",
     "text": [
      "Epoch 24/30 - Training: 100%|██████████| 52/52 [00:04<00:00, 12.34it/s]\n",
      "Epoch 24/30 - Evaluation: 100%|██████████| 4/4 [00:00<00:00, 20.94it/s]\n"
     ]
    },
    {
     "name": "stdout",
     "output_type": "stream",
     "text": [
      "Epoch 24/30 - Train Loss: 0.0083 | Test Loss: 0.7277 | Accuracy: 0.8600 | F1 Score: 0.8571 | AUC: 0.8600\n"
     ]
    },
    {
     "name": "stderr",
     "output_type": "stream",
     "text": [
      "Epoch 25/30 - Training: 100%|██████████| 52/52 [00:04<00:00, 12.43it/s]\n",
      "Epoch 25/30 - Evaluation: 100%|██████████| 4/4 [00:00<00:00, 20.61it/s]\n"
     ]
    },
    {
     "name": "stdout",
     "output_type": "stream",
     "text": [
      "Epoch 25/30 - Train Loss: 0.0086 | Test Loss: 0.6509 | Accuracy: 0.8800 | F1 Score: 0.8750 | AUC: 0.8800\n"
     ]
    },
    {
     "name": "stderr",
     "output_type": "stream",
     "text": [
      "Epoch 26/30 - Training: 100%|██████████| 52/52 [00:04<00:00, 12.55it/s]\n",
      "Epoch 26/30 - Evaluation: 100%|██████████| 4/4 [00:00<00:00, 20.83it/s]\n"
     ]
    },
    {
     "name": "stdout",
     "output_type": "stream",
     "text": [
      "Epoch 26/30 - Train Loss: 0.0133 | Test Loss: 0.8459 | Accuracy: 0.8800 | F1 Score: 0.8723 | AUC: 0.8800\n"
     ]
    },
    {
     "name": "stderr",
     "output_type": "stream",
     "text": [
      "Epoch 27/30 - Training: 100%|██████████| 52/52 [00:04<00:00, 12.50it/s]\n",
      "Epoch 27/30 - Evaluation: 100%|██████████| 4/4 [00:00<00:00, 20.40it/s]\n"
     ]
    },
    {
     "name": "stdout",
     "output_type": "stream",
     "text": [
      "Epoch 27/30 - Train Loss: 0.0116 | Test Loss: 0.8685 | Accuracy: 0.8700 | F1 Score: 0.8602 | AUC: 0.8700\n"
     ]
    },
    {
     "name": "stderr",
     "output_type": "stream",
     "text": [
      "Epoch 28/30 - Training: 100%|██████████| 52/52 [00:04<00:00, 12.52it/s]\n",
      "Epoch 28/30 - Evaluation: 100%|██████████| 4/4 [00:00<00:00, 21.50it/s]\n"
     ]
    },
    {
     "name": "stdout",
     "output_type": "stream",
     "text": [
      "Epoch 28/30 - Train Loss: 0.0074 | Test Loss: 0.7249 | Accuracy: 0.8500 | F1 Score: 0.8485 | AUC: 0.8500\n"
     ]
    },
    {
     "name": "stderr",
     "output_type": "stream",
     "text": [
      "Epoch 29/30 - Training: 100%|██████████| 52/52 [00:04<00:00, 12.59it/s]\n",
      "Epoch 29/30 - Evaluation: 100%|██████████| 4/4 [00:00<00:00, 21.27it/s]\n"
     ]
    },
    {
     "name": "stdout",
     "output_type": "stream",
     "text": [
      "Epoch 29/30 - Train Loss: 0.0066 | Test Loss: 0.8820 | Accuracy: 0.8500 | F1 Score: 0.8421 | AUC: 0.8500\n"
     ]
    },
    {
     "name": "stderr",
     "output_type": "stream",
     "text": [
      "Epoch 30/30 - Training: 100%|██████████| 52/52 [00:04<00:00, 12.56it/s]\n",
      "Epoch 30/30 - Evaluation: 100%|██████████| 4/4 [00:00<00:00, 20.40it/s]"
     ]
    },
    {
     "name": "stdout",
     "output_type": "stream",
     "text": [
      "Epoch 30/30 - Train Loss: 0.0065 | Test Loss: 0.8497 | Accuracy: 0.8500 | F1 Score: 0.8421 | AUC: 0.8500\n"
     ]
    },
    {
     "name": "stderr",
     "output_type": "stream",
     "text": [
      "\n"
     ]
    }
   ],
   "source": [
    "criterion = nn.CrossEntropyLoss()\n",
    "optimizer = optim.Adam(model.parameters(), lr = 1e-4)\n",
    "num_epochs = 30\n",
    "model.to(device)\n",
    "train_model(model, criterion, optimizer, train_loader, test_loader, num_epochs, 'shufflenet')"
   ]
  },
  {
   "attachments": {},
   "cell_type": "markdown",
   "metadata": {},
   "source": [
    "## Prediction Test"
   ]
  },
  {
   "cell_type": "code",
   "execution_count": 4,
   "metadata": {},
   "outputs": [],
   "source": [
    "from utils import feature_engineering as fe\n",
    "from models import predict"
   ]
  },
  {
   "attachments": {},
   "cell_type": "markdown",
   "metadata": {},
   "source": [
    "### Test on one image"
   ]
  },
  {
   "cell_type": "code",
   "execution_count": 7,
   "metadata": {},
   "outputs": [
    {
     "name": "stdout",
     "output_type": "stream",
     "text": [
      "1\n",
      "[6.448290e-05 9.999355e-01]\n"
     ]
    }
   ],
   "source": [
    "file = plume_list[0]\n",
    "image = fe.preprocess(file)\n",
    "res_label = predict.predict(image, dir = dir, model_choice = 'resnet34', prob = False)\n",
    "res_prob = predict.predict(image, dir = dir, model_choice = 'resnet34', prob = True)\n",
    "print(res_label)\n",
    "print(res_prob)"
   ]
  },
  {
   "cell_type": "code",
   "execution_count": 9,
   "metadata": {},
   "outputs": [
    {
     "name": "stdout",
     "output_type": "stream",
     "text": [
      "[1]\n",
      "[array([6.448290e-05, 9.999355e-01], dtype=float32)]\n"
     ]
    }
   ],
   "source": [
    "files = [plume_list[0]]\n",
    "images = [fe.preprocess(file) for file in files]\n",
    "res_label = predict.predict(images, dir = dir, model_choice = 'resnet34', prob = False)\n",
    "res_prob = predict.predict(images, dir = dir, model_choice = 'resnet34', prob = True)\n",
    "print(res_label)\n",
    "print(res_prob)"
   ]
  },
  {
   "attachments": {},
   "cell_type": "markdown",
   "metadata": {},
   "source": [
    "### Test on all models"
   ]
  },
  {
   "cell_type": "code",
   "execution_count": 10,
   "metadata": {},
   "outputs": [
    {
     "name": "stdout",
     "output_type": "stream",
     "text": [
      "1\n",
      "[1.0686435e-05 9.9998927e-01]\n"
     ]
    }
   ],
   "source": [
    "file = plume_list[0]\n",
    "image = fe.preprocess(file)\n",
    "res_label = predict.predict(image, dir = dir, model_choice = 'resnet18', prob = False)\n",
    "res_prob = predict.predict(image, dir = dir, model_choice = 'resnet18', prob = True)\n",
    "print(res_label)\n",
    "print(res_prob)"
   ]
  },
  {
   "cell_type": "code",
   "execution_count": 11,
   "metadata": {},
   "outputs": [
    {
     "name": "stdout",
     "output_type": "stream",
     "text": [
      "1\n",
      "[1.0815814e-08 1.0000000e+00]\n"
     ]
    }
   ],
   "source": [
    "file = plume_list[0]\n",
    "image = fe.preprocess(file)\n",
    "res_label = predict.predict(image, dir = dir, model_choice = 'resnet50', prob = False)\n",
    "res_prob = predict.predict(image, dir = dir, model_choice = 'resnet50', prob = True)\n",
    "print(res_label)\n",
    "print(res_prob)"
   ]
  },
  {
   "cell_type": "code",
   "execution_count": 12,
   "metadata": {},
   "outputs": [
    {
     "name": "stdout",
     "output_type": "stream",
     "text": [
      "1\n",
      "[6.545489e-08 9.999999e-01]\n"
     ]
    }
   ],
   "source": [
    "file = plume_list[0]\n",
    "image = fe.preprocess(file)\n",
    "res_label = predict.predict(image, dir = dir, model_choice = 'alexnet', prob = False)\n",
    "res_prob = predict.predict(image, dir = dir, model_choice = 'alexnet', prob = True)\n",
    "print(res_label)\n",
    "print(res_prob)"
   ]
  },
  {
   "cell_type": "code",
   "execution_count": 13,
   "metadata": {},
   "outputs": [
    {
     "name": "stdout",
     "output_type": "stream",
     "text": [
      "1\n",
      "[4.6909664e-16 1.0000000e+00]\n"
     ]
    }
   ],
   "source": [
    "file = plume_list[0]\n",
    "image = fe.preprocess(file)\n",
    "res_label = predict.predict(image, dir = dir, model_choice = 'mobilenet', prob = False)\n",
    "res_prob = predict.predict(image, dir = dir, model_choice = 'mobilenet', prob = True)\n",
    "print(res_label)\n",
    "print(res_prob)"
   ]
  },
  {
   "attachments": {},
   "cell_type": "markdown",
   "metadata": {},
   "source": [
    "### Test on the whole dataset"
   ]
  },
  {
   "cell_type": "code",
   "execution_count": 21,
   "metadata": {},
   "outputs": [],
   "source": [
    "from sklearn.metrics import accuracy_score, f1_score, roc_auc_score"
   ]
  },
  {
   "cell_type": "code",
   "execution_count": 22,
   "metadata": {},
   "outputs": [
    {
     "name": "stdout",
     "output_type": "stream",
     "text": [
      "0.9906542056074766\n",
      "0.9906976744186047\n",
      "0.9906542056074769\n"
     ]
    }
   ],
   "source": [
    "labels = [0] * len(no_plume_list) + [1] * len(plume_list)\n",
    "files = no_plume_list + plume_list\n",
    "images = [fe.preprocess(file) for file in files]\n",
    "res_label = predict.predict(images, dir = dir, model_choice = 'resnet34', prob = False)\n",
    "prob_1 = predict.predict(images, dir = dir, model_choice = 'resnet34', prob = True)\n",
    "print(accuracy_score(labels, res_label))\n",
    "print(f1_score(labels, res_label))\n",
    "print(roc_auc_score(labels, res_label))"
   ]
  },
  {
   "cell_type": "code",
   "execution_count": 23,
   "metadata": {},
   "outputs": [
    {
     "name": "stdout",
     "output_type": "stream",
     "text": [
      "0.9906542056074766\n",
      "0.9906542056074766\n",
      "0.9906542056074765\n"
     ]
    }
   ],
   "source": [
    "res_label = predict.predict(images, dir = dir, model_choice = 'resnet18', prob = False)\n",
    "prob_2 = predict.predict(images, dir = dir, model_choice = 'resnet18', prob = True)\n",
    "print(accuracy_score(labels, res_label))\n",
    "print(f1_score(labels, res_label))\n",
    "print(roc_auc_score(labels, res_label))"
   ]
  },
  {
   "cell_type": "code",
   "execution_count": 24,
   "metadata": {},
   "outputs": [
    {
     "name": "stdout",
     "output_type": "stream",
     "text": [
      "0.9883177570093458\n",
      "0.988235294117647\n",
      "0.9883177570093459\n"
     ]
    }
   ],
   "source": [
    "res_label = predict.predict(images, dir = dir, model_choice = 'resnet50', prob = False)\n",
    "prob_3 = predict.predict(images, dir = dir, model_choice = 'resnet50', prob = True)\n",
    "print(accuracy_score(labels, res_label))\n",
    "print(f1_score(labels, res_label))\n",
    "print(roc_auc_score(labels, res_label))"
   ]
  },
  {
   "cell_type": "code",
   "execution_count": 25,
   "metadata": {},
   "outputs": [
    {
     "name": "stdout",
     "output_type": "stream",
     "text": [
      "0.9836448598130841\n",
      "0.9836829836829836\n",
      "0.9836448598130841\n"
     ]
    }
   ],
   "source": [
    "res_label = predict.predict(images, dir = dir, model_choice = 'alexnet', prob = False)\n",
    "prob_4 = predict.predict(images, dir = dir, model_choice = 'alexnet', prob = True)\n",
    "print(accuracy_score(labels, res_label))\n",
    "print(f1_score(labels, res_label))\n",
    "print(roc_auc_score(labels, res_label))"
   ]
  },
  {
   "cell_type": "code",
   "execution_count": 26,
   "metadata": {},
   "outputs": [
    {
     "name": "stdout",
     "output_type": "stream",
     "text": [
      "0.9836448598130841\n",
      "0.9836065573770493\n",
      "0.9836448598130842\n"
     ]
    }
   ],
   "source": [
    "res_label = predict.predict(images, dir = dir, model_choice = 'mobilenet', prob = False)\n",
    "prob_5 = predict.predict(images, dir = dir, model_choice = 'mobilenet', prob = True)\n",
    "print(accuracy_score(labels, res_label))\n",
    "print(f1_score(labels, res_label))\n",
    "print(roc_auc_score(labels, res_label))"
   ]
  },
  {
   "attachments": {},
   "cell_type": "markdown",
   "metadata": {},
   "source": [
    "### Test ensemble method"
   ]
  },
  {
   "cell_type": "code",
   "execution_count": null,
   "metadata": {},
   "outputs": [],
   "source": [
    "import numpy as np"
   ]
  },
  {
   "cell_type": "code",
   "execution_count": 30,
   "metadata": {},
   "outputs": [
    {
     "name": "stdout",
     "output_type": "stream",
     "text": [
      "0.9953271028037384\n",
      "0.9953271028037384\n",
      "0.9953271028037385\n"
     ]
    }
   ],
   "source": [
    "prob = 0.35 * np.array(prob_1) + 0.35 * np.array(prob_2) + 0.1 * np.array(prob_3) + 0.1 * np.array(prob_4) + 0.1 * np.array(prob_5)\n",
    "res_label = [np.argmax(arr) for arr in prob]\n",
    "print(accuracy_score(labels, res_label))\n",
    "print(f1_score(labels, res_label))\n",
    "print(roc_auc_score(labels, res_label))"
   ]
  },
  {
   "attachments": {},
   "cell_type": "markdown",
   "metadata": {},
   "source": [
    "# Success!"
   ]
  },
  {
   "attachments": {},
   "cell_type": "markdown",
   "metadata": {},
   "source": [
    "## GradCam Test"
   ]
  },
  {
   "cell_type": "code",
   "execution_count": 9,
   "metadata": {},
   "outputs": [],
   "source": [
    "from utils import feature_engineering as fe\n",
    "from models import predict\n",
    "\n",
    "import matplotlib.pyplot as plt"
   ]
  },
  {
   "cell_type": "code",
   "execution_count": 5,
   "metadata": {},
   "outputs": [
    {
     "data": {
      "image/png": "[encoded data removed]",
      "text/plain": [
       "<Figure size 640x480 with 1 Axes>"
      ]
     },
     "metadata": {},
     "output_type": "display_data"
    }
   ],
   "source": [
    "file = plume_list[0]\n",
    "image = fe.preprocess(file)\n",
    "heatmap = predict.heat_map(image, dir)\n",
    "plt.imshow(heatmap)\n",
    "plt.axis('off')  # Hide axis\n",
    "plt.show()"
   ]
  },
  {
   "cell_type": "code",
   "execution_count": 6,
   "metadata": {},
   "outputs": [
    {
     "data": {
      "image/png": "[encoded data removed]",
      "text/plain": [
       "<Figure size 640x480 with 1 Axes>"
      ]
     },
     "metadata": {},
     "output_type": "display_data"
    }
   ],
   "source": [
    "file = plume_list[1]\n",
    "image = fe.preprocess(file)\n",
    "heatmap = predict.heat_map(image, dir)\n",
    "plt.imshow(heatmap)\n",
    "plt.axis('off')  # Hide axis\n",
    "plt.show()"
   ]
  },
  {
   "attachments": {},
   "cell_type": "markdown",
   "metadata": {},
   "source": [
    "# Final Success!"
   ]
  }
 ],
 "metadata": {
  "kernelspec": {
   "display_name": "pytorch_gpu",
   "language": "python",
   "name": "python3"
  },
  "language_info": {
   "codemirror_mode": {
    "name": "ipython",
    "version": 3
   },
   "file_extension": ".py",
   "mimetype": "text/x-python",
   "name": "python",
   "nbconvert_exporter": "python",
   "pygments_lexer": "ipython3",
   "version": "3.9.16"
  },
  "orig_nbformat": 4
 },
 "nbformat": 4,
 "nbformat_minor": 2
}
